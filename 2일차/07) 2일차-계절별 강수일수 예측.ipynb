{
 "cells": [
  {
   "cell_type": "code",
   "execution_count": 1,
   "metadata": {},
   "outputs": [],
   "source": [
    "import numpy as np\n",
    "import pandas as pd\n",
    "from pprint import pprint\n",
    "from matplotlib import pyplot as plt\n",
    "\n",
    "from tensorflow import keras\n",
    "from tensorflow.keras.models import Sequential\n",
    "from tensorflow.keras.layers import Dense, SimpleRNN, LSTM"
   ]
  },
  {
   "cell_type": "code",
   "execution_count": 2,
   "metadata": {},
   "outputs": [
    {
     "name": "stdout",
     "output_type": "stream",
     "text": [
      "1990,26.6,29.9,20.9,17.4\n",
      "\n",
      "2019,23.9,33.4,26.6,4.9\n",
      "\n"
     ]
    }
   ],
   "source": [
    "data_path = '../data/'\n",
    "lines = open(data_path+'강수일수.csv', 'r').readlines()[46:-1]\n",
    "print(lines[0])\n",
    "print(lines[-1])"
   ]
  },
  {
   "cell_type": "code",
   "execution_count": 3,
   "metadata": {},
   "outputs": [],
   "source": [
    "data = []\n",
    "years = []\n",
    "for line in lines:\n",
    "    year, Spr, Sum, Fal, Win = line.strip().split(',')\n",
    "    data.append([np.float(Spr), np.float(Sum), np.float(Fal), np.float(Win)])\n",
    "    years.append(np.int(year))"
   ]
  },
  {
   "cell_type": "code",
   "execution_count": 4,
   "metadata": {},
   "outputs": [
    {
     "name": "stdout",
     "output_type": "stream",
     "text": [
      "       Spr   Sum   Fal   Win\n",
      "1990  26.6  29.9  20.9  17.4\n",
      "1991  25.1  40.3  14.4  18.1\n",
      "1992  31.6  25.6  19.6  16.7\n",
      "1993  20.0  46.1  18.1  12.0\n",
      "1994  22.9  18.3  12.7  10.0\n",
      "1995  24.1  32.1  13.7   6.1\n",
      "1996  21.3  32.3  18.0   8.6\n",
      "1997  27.9  35.7  14.7  20.1\n",
      "1998  25.6  48.0  17.4   8.1\n",
      "1999  25.3  44.4  23.6   8.9\n",
      "2000  20.7  33.1  23.0  15.9\n",
      "2001  16.9  31.9  17.1  14.6\n",
      "2002  24.3  36.4  15.7  19.9\n",
      "2003  30.6  43.9  23.1   9.6\n",
      "2004  28.4  34.3  23.3  13.9\n",
      "2005  22.3  38.1  18.6  14.4\n",
      "2006  25.7  39.7  17.3  11.4\n",
      "2007  21.3  37.6  21.9  16.0\n",
      "2008  23.9  36.3  16.1  14.1\n",
      "2009  22.1  41.9  19.9  17.9\n",
      "2010  34.9  40.6  18.6  12.1\n",
      "2011  24.1  48.1  24.3  15.0\n",
      "2012  29.6  39.0  21.4  21.3\n",
      "2013  21.0  31.3  24.3  16.9\n",
      "2014  27.6  46.9  21.1  21.0\n",
      "2015  28.6  34.3  28.0  18.6\n",
      "2016  27.9  32.6  34.1  16.9\n",
      "2017  24.1  36.1  14.1  10.1\n",
      "2018  29.4  30.4  23.9  13.6\n",
      "2019  23.9  33.4  26.6   4.9\n"
     ]
    }
   ],
   "source": [
    "df = pd.DataFrame(data)\n",
    "df.columns = ['Spr', 'Sum', 'Fal', 'Win']\n",
    "df.index = years\n",
    "print(df)"
   ]
  },
  {
   "cell_type": "code",
   "execution_count": 5,
   "metadata": {},
   "outputs": [],
   "source": [
    "def div_xy(data, seek_step, features):\n",
    "    x, y = [], []\n",
    "    for i in range(len(data)-seek_step-1):\n",
    "        x.append(data[i:i+seek_step])\n",
    "        y.append(data[i+seek_step])\n",
    "    return np.array(x, dtype=np.float).reshape(-1, seek_step, features), np.array(y, dtype=np.float).reshape(-1, features)"
   ]
  },
  {
   "cell_type": "code",
   "execution_count": 6,
   "metadata": {},
   "outputs": [
    {
     "name": "stdout",
     "output_type": "stream",
     "text": [
      "[[26.6 29.9 20.9 17.4]\n",
      " [25.1 40.3 14.4 18.1]\n",
      " [31.6 25.6 19.6 16.7]\n",
      " [20.  46.1 18.1 12. ]\n",
      " [22.9 18.3 12.7 10. ]]\n",
      "[[23.9 33.4 26.6  4.9]]\n"
     ]
    }
   ],
   "source": [
    "train_dataset = df[df.index < 2019].dropna().values\n",
    "test_dataset = df[df.index == 2019].dropna().values\n",
    "print(train_dataset[:5])\n",
    "print(test_dataset)"
   ]
  },
  {
   "cell_type": "code",
   "execution_count": 7,
   "metadata": {},
   "outputs": [
    {
     "name": "stdout",
     "output_type": "stream",
     "text": [
      "[[26.6 29.9 20.9 17.4]\n",
      " [25.1 40.3 14.4 18.1]\n",
      " [31.6 25.6 19.6 16.7]\n",
      " [20.  46.1 18.1 12. ]\n",
      " [22.9 18.3 12.7 10. ]] : [24.1 32.1 13.7  6.1]\n",
      "[[25.1 40.3 14.4 18.1]\n",
      " [31.6 25.6 19.6 16.7]\n",
      " [20.  46.1 18.1 12. ]\n",
      " [22.9 18.3 12.7 10. ]\n",
      " [24.1 32.1 13.7  6.1]] : [21.3 32.3 18.   8.6]\n",
      "[[31.6 25.6 19.6 16.7]\n",
      " [20.  46.1 18.1 12. ]\n",
      " [22.9 18.3 12.7 10. ]\n",
      " [24.1 32.1 13.7  6.1]\n",
      " [21.3 32.3 18.   8.6]] : [27.9 35.7 14.7 20.1]\n",
      "[[20.  46.1 18.1 12. ]\n",
      " [22.9 18.3 12.7 10. ]\n",
      " [24.1 32.1 13.7  6.1]\n",
      " [21.3 32.3 18.   8.6]\n",
      " [27.9 35.7 14.7 20.1]] : [25.6 48.  17.4  8.1]\n",
      "[[22.9 18.3 12.7 10. ]\n",
      " [24.1 32.1 13.7  6.1]\n",
      " [21.3 32.3 18.   8.6]\n",
      " [27.9 35.7 14.7 20.1]\n",
      " [25.6 48.  17.4  8.1]] : [25.3 44.4 23.6  8.9]\n"
     ]
    }
   ],
   "source": [
    "seek_step = 5\n",
    "features = 4\n",
    "\n",
    "x_train, y_train = div_xy(train_dataset, seek_step, features)\n",
    "for i in range(5):\n",
    "    print(x_train[i], end=' : ')\n",
    "    print(y_train[i])"
   ]
  },
  {
   "cell_type": "code",
   "execution_count": 8,
   "metadata": {},
   "outputs": [],
   "source": [
    "class LossHistory(keras.callbacks.Callback):\n",
    "    def init(self):\n",
    "        self.losses = []\n",
    "        \n",
    "    def on_epoch_end(self, batch, logs={}):\n",
    "        self.losses.append(logs.get('loss'))"
   ]
  },
  {
   "cell_type": "code",
   "execution_count": 9,
   "metadata": {},
   "outputs": [],
   "source": [
    "history = LossHistory()\n",
    "history.init()\n",
    "\n",
    "model = Sequential()\n",
    "model.add(SimpleRNN(units=256, batch_input_shape=(1,seek_step,features), stateful=True))\n",
    "model.add(Dense(features))\n",
    "model.compile(loss='mse', optimizer='RMSprop', metrics=['accuracy'])"
   ]
  },
  {
   "cell_type": "code",
   "execution_count": 10,
   "metadata": {},
   "outputs": [
    {
     "name": "stdout",
     "output_type": "stream",
     "text": [
      "Epoch 1/100\n",
      "23/23 [==============================] - 0s 1ms/step - loss: 375.8290 - accuracy: 0.9130\n",
      "Epoch 2/100\n",
      "23/23 [==============================] - 0s 1ms/step - loss: 163.1270 - accuracy: 0.9565\n",
      "Epoch 3/100\n",
      "23/23 [==============================] - 0s 1ms/step - loss: 84.2037 - accuracy: 0.9565\n",
      "Epoch 4/100\n",
      "23/23 [==============================] - 0s 1ms/step - loss: 45.8879 - accuracy: 0.9565\n",
      "Epoch 5/100\n",
      "23/23 [==============================] - 0s 1ms/step - loss: 28.6032 - accuracy: 0.9565\n",
      "Epoch 6/100\n",
      "23/23 [==============================] - 0s 1ms/step - loss: 22.9017 - accuracy: 0.9565\n",
      "Epoch 7/100\n",
      "23/23 [==============================] - 0s 1ms/step - loss: 21.0141 - accuracy: 0.9565\n",
      "Epoch 8/100\n",
      "23/23 [==============================] - 0s 1ms/step - loss: 20.4989 - accuracy: 0.9565\n",
      "Epoch 9/100\n",
      "23/23 [==============================] - 0s 2ms/step - loss: 20.4388 - accuracy: 0.9565\n",
      "Epoch 10/100\n",
      "23/23 [==============================] - 0s 1ms/step - loss: 19.5865 - accuracy: 0.9565\n",
      "Epoch 11/100\n",
      "23/23 [==============================] - 0s 2ms/step - loss: 19.9879 - accuracy: 0.9565\n",
      "Epoch 12/100\n",
      "23/23 [==============================] - 0s 1ms/step - loss: 19.3060 - accuracy: 0.9565\n",
      "Epoch 13/100\n",
      "23/23 [==============================] - 0s 1ms/step - loss: 18.6380 - accuracy: 0.9565\n",
      "Epoch 14/100\n",
      "23/23 [==============================] - 0s 1ms/step - loss: 18.3370 - accuracy: 0.9565\n",
      "Epoch 15/100\n",
      "23/23 [==============================] - 0s 1ms/step - loss: 18.4733 - accuracy: 0.9565\n",
      "Epoch 16/100\n",
      "23/23 [==============================] - 0s 1ms/step - loss: 17.7983 - accuracy: 0.9565\n",
      "Epoch 17/100\n",
      "23/23 [==============================] - 0s 2ms/step - loss: 17.5884 - accuracy: 0.9565\n",
      "Epoch 18/100\n",
      "23/23 [==============================] - 0s 1ms/step - loss: 17.3626 - accuracy: 0.9565\n",
      "Epoch 19/100\n",
      "23/23 [==============================] - 0s 1ms/step - loss: 16.9741 - accuracy: 0.9565\n",
      "Epoch 20/100\n",
      "23/23 [==============================] - 0s 1ms/step - loss: 16.3082 - accuracy: 0.9565\n",
      "Epoch 21/100\n",
      "23/23 [==============================] - 0s 1ms/step - loss: 16.6042 - accuracy: 0.9565\n",
      "Epoch 22/100\n",
      "23/23 [==============================] - 0s 1ms/step - loss: 15.9576 - accuracy: 0.9565\n",
      "Epoch 23/100\n",
      "23/23 [==============================] - 0s 1ms/step - loss: 14.9129 - accuracy: 0.9565\n",
      "Epoch 24/100\n",
      "23/23 [==============================] - 0s 1ms/step - loss: 15.0723 - accuracy: 0.9565\n",
      "Epoch 25/100\n",
      "23/23 [==============================] - 0s 1ms/step - loss: 14.8831 - accuracy: 0.9565\n",
      "Epoch 26/100\n",
      "23/23 [==============================] - 0s 1ms/step - loss: 14.2088 - accuracy: 0.9565\n",
      "Epoch 27/100\n",
      "23/23 [==============================] - 0s 1ms/step - loss: 13.8850 - accuracy: 0.9565\n",
      "Epoch 28/100\n",
      "23/23 [==============================] - 0s 1ms/step - loss: 13.7851 - accuracy: 0.9565\n",
      "Epoch 29/100\n",
      "23/23 [==============================] - 0s 1ms/step - loss: 13.5138 - accuracy: 0.9565\n",
      "Epoch 30/100\n",
      "23/23 [==============================] - 0s 1ms/step - loss: 12.7306 - accuracy: 0.9565\n",
      "Epoch 31/100\n",
      "23/23 [==============================] - 0s 1ms/step - loss: 12.5146 - accuracy: 0.9565\n",
      "Epoch 32/100\n",
      "23/23 [==============================] - 0s 1ms/step - loss: 12.0917 - accuracy: 0.9565\n",
      "Epoch 33/100\n",
      "23/23 [==============================] - 0s 1ms/step - loss: 11.8330 - accuracy: 0.9565\n",
      "Epoch 34/100\n",
      "23/23 [==============================] - 0s 1ms/step - loss: 11.7525 - accuracy: 0.9565\n",
      "Epoch 35/100\n",
      "23/23 [==============================] - 0s 1ms/step - loss: 11.6039 - accuracy: 0.9565\n",
      "Epoch 36/100\n",
      "23/23 [==============================] - 0s 1ms/step - loss: 10.3779 - accuracy: 0.9565\n",
      "Epoch 37/100\n",
      "23/23 [==============================] - 0s 1ms/step - loss: 10.8976 - accuracy: 0.9565\n",
      "Epoch 38/100\n",
      "23/23 [==============================] - 0s 1ms/step - loss: 10.5816 - accuracy: 0.9565\n",
      "Epoch 39/100\n",
      "23/23 [==============================] - 0s 1ms/step - loss: 9.4319 - accuracy: 0.9565\n",
      "Epoch 40/100\n",
      "23/23 [==============================] - 0s 1ms/step - loss: 9.6494 - accuracy: 0.9565\n",
      "Epoch 41/100\n",
      "23/23 [==============================] - 0s 1ms/step - loss: 9.7680 - accuracy: 0.9565 \n",
      "Epoch 42/100\n",
      "23/23 [==============================] - 0s 1ms/step - loss: 9.4730 - accuracy: 0.9565\n",
      "Epoch 43/100\n",
      "23/23 [==============================] - 0s 1ms/step - loss: 8.2822 - accuracy: 0.9565\n",
      "Epoch 44/100\n",
      "23/23 [==============================] - 0s 1ms/step - loss: 8.4936 - accuracy: 0.9565\n",
      "Epoch 45/100\n",
      "23/23 [==============================] - 0s 1ms/step - loss: 8.0551 - accuracy: 0.9565\n",
      "Epoch 46/100\n",
      "23/23 [==============================] - 0s 1ms/step - loss: 7.8741 - accuracy: 0.9565\n",
      "Epoch 47/100\n",
      "23/23 [==============================] - 0s 1ms/step - loss: 7.6073 - accuracy: 0.9565\n",
      "Epoch 48/100\n",
      "23/23 [==============================] - 0s 1ms/step - loss: 7.1411 - accuracy: 0.9565\n",
      "Epoch 49/100\n",
      "23/23 [==============================] - 0s 1ms/step - loss: 6.4866 - accuracy: 0.9565\n",
      "Epoch 50/100\n",
      "23/23 [==============================] - 0s 1ms/step - loss: 7.2945 - accuracy: 0.9565\n",
      "Epoch 51/100\n",
      "23/23 [==============================] - 0s 1ms/step - loss: 7.3245 - accuracy: 0.9565\n",
      "Epoch 52/100\n",
      "23/23 [==============================] - 0s 1ms/step - loss: 5.7756 - accuracy: 0.9565\n",
      "Epoch 53/100\n",
      "23/23 [==============================] - 0s 2ms/step - loss: 5.8570 - accuracy: 0.9565\n",
      "Epoch 54/100\n",
      "23/23 [==============================] - 0s 1ms/step - loss: 5.4370 - accuracy: 0.9565\n",
      "Epoch 55/100\n",
      "23/23 [==============================] - 0s 1ms/step - loss: 6.8455 - accuracy: 0.9565\n",
      "Epoch 56/100\n",
      "23/23 [==============================] - 0s 1ms/step - loss: 5.5243 - accuracy: 0.9565\n",
      "Epoch 57/100\n",
      "23/23 [==============================] - 0s 1ms/step - loss: 5.2565 - accuracy: 0.9565\n",
      "Epoch 58/100\n",
      "23/23 [==============================] - 0s 1ms/step - loss: 4.7995 - accuracy: 0.9565\n",
      "Epoch 59/100\n",
      "23/23 [==============================] - 0s 1ms/step - loss: 5.8388 - accuracy: 0.9565\n",
      "Epoch 60/100\n",
      "23/23 [==============================] - 0s 1ms/step - loss: 4.4401 - accuracy: 0.9565\n",
      "Epoch 61/100\n",
      "23/23 [==============================] - 0s 1ms/step - loss: 3.9856 - accuracy: 0.9565\n",
      "Epoch 62/100\n",
      "23/23 [==============================] - 0s 1ms/step - loss: 4.7141 - accuracy: 0.9565\n",
      "Epoch 63/100\n",
      "23/23 [==============================] - 0s 1ms/step - loss: 3.8265 - accuracy: 0.9565\n",
      "Epoch 64/100\n",
      "23/23 [==============================] - 0s 1ms/step - loss: 4.1969 - accuracy: 0.9565\n",
      "Epoch 65/100\n",
      "23/23 [==============================] - 0s 1ms/step - loss: 3.6667 - accuracy: 0.9565\n",
      "Epoch 66/100\n",
      "23/23 [==============================] - 0s 1ms/step - loss: 2.9750 - accuracy: 0.9565\n",
      "Epoch 67/100\n",
      "23/23 [==============================] - 0s 1ms/step - loss: 3.2271 - accuracy: 0.9565\n",
      "Epoch 68/100\n",
      "23/23 [==============================] - 0s 1ms/step - loss: 3.4853 - accuracy: 0.9565\n",
      "Epoch 69/100\n",
      "23/23 [==============================] - 0s 1ms/step - loss: 3.1038 - accuracy: 0.9565\n",
      "Epoch 70/100\n",
      "23/23 [==============================] - 0s 1ms/step - loss: 2.9748 - accuracy: 0.9565\n",
      "Epoch 71/100\n",
      "23/23 [==============================] - 0s 1ms/step - loss: 3.1985 - accuracy: 0.9565\n",
      "Epoch 72/100\n",
      "23/23 [==============================] - 0s 1ms/step - loss: 2.5869 - accuracy: 0.9565\n",
      "Epoch 73/100\n",
      "23/23 [==============================] - 0s 1ms/step - loss: 3.3947 - accuracy: 0.9565\n",
      "Epoch 74/100\n",
      "23/23 [==============================] - 0s 1ms/step - loss: 2.8619 - accuracy: 0.9565\n",
      "Epoch 75/100\n",
      "23/23 [==============================] - 0s 1ms/step - loss: 2.7743 - accuracy: 0.9565\n",
      "Epoch 76/100\n",
      "23/23 [==============================] - 0s 1ms/step - loss: 2.0763 - accuracy: 0.9565\n",
      "Epoch 77/100\n",
      "23/23 [==============================] - 0s 1ms/step - loss: 1.9331 - accuracy: 0.9565\n",
      "Epoch 78/100\n",
      "23/23 [==============================] - 0s 1ms/step - loss: 2.4808 - accuracy: 0.9565\n",
      "Epoch 79/100\n",
      "23/23 [==============================] - 0s 1ms/step - loss: 2.1471 - accuracy: 0.9565\n",
      "Epoch 80/100\n",
      "23/23 [==============================] - 0s 1ms/step - loss: 2.0112 - accuracy: 0.9565\n",
      "Epoch 81/100\n",
      "23/23 [==============================] - 0s 1ms/step - loss: 1.7819 - accuracy: 0.9565\n",
      "Epoch 82/100\n"
     ]
    },
    {
     "name": "stdout",
     "output_type": "stream",
     "text": [
      "23/23 [==============================] - 0s 1ms/step - loss: 1.7514 - accuracy: 0.9565\n",
      "Epoch 83/100\n",
      "23/23 [==============================] - 0s 1ms/step - loss: 1.9479 - accuracy: 0.9565\n",
      "Epoch 84/100\n",
      "23/23 [==============================] - 0s 1ms/step - loss: 2.5527 - accuracy: 0.9565\n",
      "Epoch 85/100\n",
      "23/23 [==============================] - 0s 1ms/step - loss: 1.5604 - accuracy: 0.9565\n",
      "Epoch 86/100\n",
      "23/23 [==============================] - 0s 1ms/step - loss: 1.8510 - accuracy: 0.9565\n",
      "Epoch 87/100\n",
      "23/23 [==============================] - 0s 1ms/step - loss: 1.8144 - accuracy: 0.9565\n",
      "Epoch 88/100\n",
      "23/23 [==============================] - 0s 1ms/step - loss: 1.5171 - accuracy: 0.9565\n",
      "Epoch 89/100\n",
      "23/23 [==============================] - 0s 1ms/step - loss: 1.9139 - accuracy: 0.9565\n",
      "Epoch 90/100\n",
      "23/23 [==============================] - 0s 1ms/step - loss: 1.0255 - accuracy: 0.9565\n",
      "Epoch 91/100\n",
      "23/23 [==============================] - 0s 1ms/step - loss: 1.1774 - accuracy: 0.9565\n",
      "Epoch 92/100\n",
      "23/23 [==============================] - 0s 1ms/step - loss: 1.7804 - accuracy: 0.9565\n",
      "Epoch 93/100\n",
      "23/23 [==============================] - 0s 1ms/step - loss: 1.0915 - accuracy: 0.9565\n",
      "Epoch 94/100\n",
      "23/23 [==============================] - 0s 1ms/step - loss: 1.0560 - accuracy: 0.9565\n",
      "Epoch 95/100\n",
      "23/23 [==============================] - 0s 1ms/step - loss: 1.0743 - accuracy: 0.9565\n",
      "Epoch 96/100\n",
      "23/23 [==============================] - 0s 1ms/step - loss: 1.3515 - accuracy: 0.9565\n",
      "Epoch 97/100\n",
      "23/23 [==============================] - 0s 1ms/step - loss: 1.2424 - accuracy: 0.9565\n",
      "Epoch 98/100\n",
      "23/23 [==============================] - 0s 1ms/step - loss: 1.0919 - accuracy: 0.9565\n",
      "Epoch 99/100\n",
      "23/23 [==============================] - 0s 1ms/step - loss: 1.0082 - accuracy: 0.9565\n",
      "Epoch 100/100\n",
      "23/23 [==============================] - 0s 1ms/step - loss: 1.4240 - accuracy: 1.0000\n"
     ]
    },
    {
     "data": {
      "text/plain": [
       "<tensorflow.python.keras.callbacks.History at 0x21270d37648>"
      ]
     },
     "execution_count": 10,
     "metadata": {},
     "output_type": "execute_result"
    }
   ],
   "source": [
    "model.fit(x_train, y_train, epochs=100, batch_size=1, callbacks=[history])"
   ]
  },
  {
   "cell_type": "code",
   "execution_count": 11,
   "metadata": {},
   "outputs": [
    {
     "data": {
      "image/png": "[encoded data removed]",
      "text/plain": [
       "<Figure size 432x288 with 1 Axes>"
      ]
     },
     "metadata": {
      "needs_background": "light"
     },
     "output_type": "display_data"
    }
   ],
   "source": [
    "loss = history.losses\n",
    "epochs = range(len(loss))\n",
    "plt.plot(epochs, loss)\n",
    "plt.show()"
   ]
  },
  {
   "cell_type": "code",
   "execution_count": 12,
   "metadata": {},
   "outputs": [],
   "source": [
    "y_hat = []\n",
    "for trained_x in x_train:\n",
    "    trained_x = trained_x.reshape(1, seek_step, features)\n",
    "    y_hat.append(model.predict(trained_x))\n",
    "length = range(len(y_hat))\n",
    "y_hat = np.squeeze(y_hat)"
   ]
  },
  {
   "cell_type": "code",
   "execution_count": 13,
   "metadata": {},
   "outputs": [],
   "source": [
    "width = 0.35\n",
    "x = np.arange(len(y_train[:, 0]))"
   ]
  },
  {
   "cell_type": "code",
   "execution_count": 14,
   "metadata": {},
   "outputs": [
    {
     "data": {
      "image/png": "[encoded data removed]",
      "text/plain": [
       "<Figure size 432x288 with 1 Axes>"
      ]
     },
     "metadata": {
      "needs_background": "light"
     },
     "output_type": "display_data"
    }
   ],
   "source": [
    "fig, ax = plt.subplots()\n",
    "real = ax.bar(x=x-width/2, height=y_train[:, 0], width=width)\n",
    "pred = ax.bar(x=x+width/2, height=y_hat[:, 0], width=width)\n",
    "plt.show()"
   ]
  },
  {
   "cell_type": "code",
   "execution_count": 15,
   "metadata": {},
   "outputs": [
    {
     "data": {
      "image/png": "[encoded data removed]",
      "text/plain": [
       "<Figure size 432x288 with 1 Axes>"
      ]
     },
     "metadata": {
      "needs_background": "light"
     },
     "output_type": "display_data"
    }
   ],
   "source": [
    "fig, ax = plt.subplots()\n",
    "real = ax.bar(x=x-width/2, height=y_train[:, 1], width=width)\n",
    "pred = ax.bar(x=x+width/2, height=y_hat[:, 1], width=width)\n",
    "plt.show()"
   ]
  },
  {
   "cell_type": "code",
   "execution_count": 16,
   "metadata": {},
   "outputs": [
    {
     "data": {
      "image/png": "[encoded data removed]",
      "text/plain": [
       "<Figure size 432x288 with 1 Axes>"
      ]
     },
     "metadata": {
      "needs_background": "light"
     },
     "output_type": "display_data"
    }
   ],
   "source": [
    "fig, ax = plt.subplots()\n",
    "real = ax.bar(x=x-width/2, height=y_train[:, 2], width=width)\n",
    "pred = ax.bar(x=x+width/2, height=y_hat[:, 2], width=width)\n",
    "plt.show()"
   ]
  },
  {
   "cell_type": "code",
   "execution_count": 17,
   "metadata": {},
   "outputs": [
    {
     "data": {
      "image/png": "[encoded data removed]",
      "text/plain": [
       "<Figure size 432x288 with 1 Axes>"
      ]
     },
     "metadata": {
      "needs_background": "light"
     },
     "output_type": "display_data"
    }
   ],
   "source": [
    "fig, ax = plt.subplots()\n",
    "real = ax.bar(x=x-width/2, height=y_train[:, 3], width=width)\n",
    "pred = ax.bar(x=x+width/2, height=y_hat[:, 3], width=width)\n",
    "plt.show()"
   ]
  },
  {
   "cell_type": "code",
   "execution_count": 18,
   "metadata": {},
   "outputs": [
    {
     "data": {
      "image/png": "[encoded data removed]",
      "text/plain": [
       "<Figure size 432x288 with 1 Axes>"
      ]
     },
     "metadata": {
      "needs_background": "light"
     },
     "output_type": "display_data"
    }
   ],
   "source": [
    "y_pred = model.predict(train_dataset[-5:].reshape(1, seek_step, features))\n",
    "y_pred = np.squeeze(y_pred)\n",
    "y_test = np.squeeze(test_dataset)\n",
    "\n",
    "x = np.arange(len(y_pred))\n",
    "\n",
    "fig, ax = plt.subplots()\n",
    "real = ax.bar(x=x-width/2, height=y_pred, width=width)\n",
    "pred = ax.bar(x=x+width/2, height=y_test, width=width)\n",
    "plt.show()"
   ]
  }
 ],
 "metadata": {
  "kernelspec": {
   "display_name": "Python 3",
   "language": "python",
   "name": "python3"
  },
  "language_info": {
   "codemirror_mode": {
    "name": "ipython",
    "version": 3
   },
   "file_extension": ".py",
   "mimetype": "text/x-python",
   "name": "python",
   "nbconvert_exporter": "python",
   "pygments_lexer": "ipython3",
   "version": "3.7.7"
  }
 },
 "nbformat": 4,
 "nbformat_minor": 4
}
