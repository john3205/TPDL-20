{
 "cells": [
  {
   "cell_type": "code",
   "execution_count": 1,
   "metadata": {},
   "outputs": [],
   "source": [
    "import numpy as np\n",
    "import pandas as pd\n",
    "from pprint import pprint\n",
    "from matplotlib import pyplot as plt\n",
    "\n",
    "from tensorflow import keras\n",
    "from tensorflow.keras.models import Sequential\n",
    "from tensorflow.keras.layers import Dense, SimpleRNN, LSTM"
   ]
  },
  {
   "cell_type": "code",
   "execution_count": 2,
   "metadata": {},
   "outputs": [
    {
     "name": "stdout",
     "output_type": "stream",
     "text": [
      "1990,7.3,12.3,8.7,7.7,10.1,12.0,10.3,7.6,12.1,4.7,4.0,3.1,100.0,11\n",
      "\n",
      "2019,3.4,4.0,8.0,9.7,6.1,10.1,12.4,10.9,14.7,7.0,4.9,4.9,96.1,17\n",
      "\n"
     ]
    }
   ],
   "source": [
    "data_path = '../data/'\n",
    "lines = open(data_path+'강수일수.csv', 'r').readlines()[9:39]\n",
    "print(lines[0])\n",
    "print(lines[-1])"
   ]
  },
  {
   "cell_type": "code",
   "execution_count": 3,
   "metadata": {},
   "outputs": [],
   "source": [
    "data = []\n",
    "years = []\n",
    "for line in lines:\n",
    "    year, Jan, Feb, Mar, Apr, May, Jun, Jul, Aug, Sep, Oct, Nov, Dec, _, _ = line.strip().split(',')\n",
    "    data.append([np.float(Jan), np.float(Feb), np.float(Mar), np.float(Apr), np.float(May), np.float(Jun),\n",
    "                 np.float(Jul), np.float(Aug), np.float(Sep), np.float(Oct), np.float(Nov), np.float(Dec)])\n",
    "    years.append(np.int(year))"
   ]
  },
  {
   "cell_type": "code",
   "execution_count": 4,
   "metadata": {},
   "outputs": [
    {
     "name": "stdout",
     "output_type": "stream",
     "text": [
      "      Jan   Feb   Mar   Apr   May   Jun   Jul   Aug   Sep   Oct   Nov  Dec\n",
      "1990  7.3  12.3   8.7   7.7  10.1  12.0  10.3   7.6  12.1   4.7   4.0  3.1\n",
      "1991  5.6   8.7  10.6   6.3   8.3  10.3  18.7  11.3   8.4   1.3   4.7  8.4\n",
      "1992  4.4   5.3  11.0  11.4   9.1   5.4   7.6  12.6  10.6   5.3   3.7  7.4\n",
      "1993  6.1   3.1   6.1   3.6  10.3  10.9  15.6  19.7   5.3   3.4   9.4  3.4\n",
      "1994  4.3   4.3   6.3   8.4   8.1   7.6   2.9   7.9   3.4   6.0   3.3  2.6\n",
      "1995  5.0   2.4   7.1   7.3   9.7   7.3  12.7  12.1   6.0   4.6   3.1  0.6\n",
      "1996  3.3   2.3   9.4   4.3   7.6  12.7  10.4   9.1   3.7   5.0   9.3  3.9\n",
      "1997  2.4   2.3   5.9  10.0  12.0  10.7  12.1  12.9   4.4   2.0   8.3  5.0\n",
      "1998  6.9   8.3   4.6  12.0   9.0  15.7  15.7  16.6   7.9   5.9   3.7  1.4\n",
      "1999  2.4   4.3   8.4   8.3   8.6  10.3  16.0  18.1  12.1   6.9   4.6  0.7\n",
      "2000  7.9   0.3   5.3   7.3   8.1  11.0  10.1  12.0  10.7   6.0   6.3  2.6\n",
      "2001  7.0   6.3   5.0   4.7   7.1  11.3  11.1   9.4   7.1   7.7   2.3  5.0\n",
      "2002  6.4   3.1   6.1   7.3  10.9   6.7  13.7  16.0   6.3   7.0   2.4  8.0\n",
      "2003  6.1   5.7   8.1  11.9  10.6   7.0  21.3  15.6  10.6   2.6  10.0  2.1\n",
      "2004  1.7   5.7   7.0   7.3  14.1  10.4  10.7  13.1  14.4   2.3   6.6  3.1\n",
      "2005  4.9   5.9   8.6   7.1   6.6   8.3  15.0  14.9  10.9   3.7   4.0  1.9\n",
      "2006  3.9   8.7   3.6  10.7  11.4  10.0  19.7  10.0   8.7   3.0   5.6  4.0\n",
      "2007  2.4   5.0   7.4   5.3   8.6   9.6  13.3  14.7  15.6   5.7   0.6  6.1\n",
      "2008  7.6   2.3   7.1   8.6   8.1  13.1  12.0  11.1   8.4   3.1   4.6  3.0\n",
      "2009  3.9   7.3   6.6   6.7   8.9   9.0  21.4  11.4   8.6   5.1   6.1  4.7\n",
      "2010  4.1   9.0  13.3  13.0   8.6   9.0  16.1  15.4   9.1   6.7   2.7  4.7\n",
      "2011  0.7   6.7   3.1   9.0  12.0  12.3  18.0  17.9   7.0   5.7  11.6  3.9\n",
      "2012  5.7   5.4  10.4  10.9   8.3   9.6  13.9  15.6  10.7   2.6   8.1  9.7\n",
      "2013  3.7   7.9   6.6   8.0   6.4   9.3  11.4  10.6   8.9   7.1   8.3  5.3\n",
      "2014  3.6   8.0  10.0   8.9   8.7  10.6  16.3  20.0   7.4   6.4   7.3  6.7\n",
      "2015  9.0   5.3   5.7  15.1   7.7   9.7  14.1  10.4  10.1   3.7  14.1  9.9\n",
      "2016  4.3   4.4   7.9  11.6   8.4  11.6  12.7   8.3  15.9  11.1   7.1  6.0\n",
      "2017  4.1   6.7   9.1   9.3   5.7   7.9  15.7  12.6   5.7   7.3   1.1  2.3\n",
      "2018  6.0   1.9  10.1   7.9  11.4   9.6   8.4  12.4  12.6   5.9   5.4  6.1\n",
      "2019  3.4   4.0   8.0   9.7   6.1  10.1  12.4  10.9  14.7   7.0   4.9  4.9\n"
     ]
    }
   ],
   "source": [
    "df = pd.DataFrame(data)\n",
    "df.columns = ['Jan', 'Feb', 'Mar', 'Apr', 'May', 'Jun', 'Jul', 'Aug', 'Sep', 'Oct', 'Nov', 'Dec']\n",
    "df.index = years\n",
    "print(df)"
   ]
  },
  {
   "cell_type": "code",
   "execution_count": 5,
   "metadata": {},
   "outputs": [],
   "source": [
    "train_dataset = df[df.index < 2019].dropna().values\n",
    "test_dataset = df[df.index == 2019].dropna().values"
   ]
  },
  {
   "cell_type": "code",
   "execution_count": 6,
   "metadata": {},
   "outputs": [],
   "source": [
    "def div_xy(data, seek_step, features):\n",
    "    x, y = [], []\n",
    "    for i in range(len(data)-seek_step-1):\n",
    "        x.append(data[i:i+seek_step])\n",
    "        y.append(data[i+seek_step])\n",
    "    return np.array(x).reshape(-1, seek_step, features), np.array(y).reshape(-1, features)"
   ]
  },
  {
   "cell_type": "code",
   "execution_count": 7,
   "metadata": {},
   "outputs": [
    {
     "name": "stdout",
     "output_type": "stream",
     "text": [
      "[[ 7.3 12.3  8.7  7.7 10.1 12.  10.3  7.6 12.1  4.7  4.   3.1]\n",
      " [ 5.6  8.7 10.6  6.3  8.3 10.3 18.7 11.3  8.4  1.3  4.7  8.4]\n",
      " [ 4.4  5.3 11.  11.4  9.1  5.4  7.6 12.6 10.6  5.3  3.7  7.4]\n",
      " [ 6.1  3.1  6.1  3.6 10.3 10.9 15.6 19.7  5.3  3.4  9.4  3.4]\n",
      " [ 4.3  4.3  6.3  8.4  8.1  7.6  2.9  7.9  3.4  6.   3.3  2.6]]\n",
      "[ 5.   2.4  7.1  7.3  9.7  7.3 12.7 12.1  6.   4.6  3.1  0.6]\n",
      "\n",
      "[[ 5.6  8.7 10.6  6.3  8.3 10.3 18.7 11.3  8.4  1.3  4.7  8.4]\n",
      " [ 4.4  5.3 11.  11.4  9.1  5.4  7.6 12.6 10.6  5.3  3.7  7.4]\n",
      " [ 6.1  3.1  6.1  3.6 10.3 10.9 15.6 19.7  5.3  3.4  9.4  3.4]\n",
      " [ 4.3  4.3  6.3  8.4  8.1  7.6  2.9  7.9  3.4  6.   3.3  2.6]\n",
      " [ 5.   2.4  7.1  7.3  9.7  7.3 12.7 12.1  6.   4.6  3.1  0.6]]\n",
      "[ 3.3  2.3  9.4  4.3  7.6 12.7 10.4  9.1  3.7  5.   9.3  3.9]\n",
      "\n",
      "[[ 4.4  5.3 11.  11.4  9.1  5.4  7.6 12.6 10.6  5.3  3.7  7.4]\n",
      " [ 6.1  3.1  6.1  3.6 10.3 10.9 15.6 19.7  5.3  3.4  9.4  3.4]\n",
      " [ 4.3  4.3  6.3  8.4  8.1  7.6  2.9  7.9  3.4  6.   3.3  2.6]\n",
      " [ 5.   2.4  7.1  7.3  9.7  7.3 12.7 12.1  6.   4.6  3.1  0.6]\n",
      " [ 3.3  2.3  9.4  4.3  7.6 12.7 10.4  9.1  3.7  5.   9.3  3.9]]\n",
      "[ 2.4  2.3  5.9 10.  12.  10.7 12.1 12.9  4.4  2.   8.3  5. ]\n",
      "\n",
      "[[ 6.1  3.1  6.1  3.6 10.3 10.9 15.6 19.7  5.3  3.4  9.4  3.4]\n",
      " [ 4.3  4.3  6.3  8.4  8.1  7.6  2.9  7.9  3.4  6.   3.3  2.6]\n",
      " [ 5.   2.4  7.1  7.3  9.7  7.3 12.7 12.1  6.   4.6  3.1  0.6]\n",
      " [ 3.3  2.3  9.4  4.3  7.6 12.7 10.4  9.1  3.7  5.   9.3  3.9]\n",
      " [ 2.4  2.3  5.9 10.  12.  10.7 12.1 12.9  4.4  2.   8.3  5. ]]\n",
      "[ 6.9  8.3  4.6 12.   9.  15.7 15.7 16.6  7.9  5.9  3.7  1.4]\n",
      "\n",
      "[[ 4.3  4.3  6.3  8.4  8.1  7.6  2.9  7.9  3.4  6.   3.3  2.6]\n",
      " [ 5.   2.4  7.1  7.3  9.7  7.3 12.7 12.1  6.   4.6  3.1  0.6]\n",
      " [ 3.3  2.3  9.4  4.3  7.6 12.7 10.4  9.1  3.7  5.   9.3  3.9]\n",
      " [ 2.4  2.3  5.9 10.  12.  10.7 12.1 12.9  4.4  2.   8.3  5. ]\n",
      " [ 6.9  8.3  4.6 12.   9.  15.7 15.7 16.6  7.9  5.9  3.7  1.4]]\n",
      "[ 2.4  4.3  8.4  8.3  8.6 10.3 16.  18.1 12.1  6.9  4.6  0.7]\n",
      "\n"
     ]
    }
   ],
   "source": [
    "seek_step = 5\n",
    "features = 12\n",
    "\n",
    "x_train, y_train = div_xy(train_dataset, seek_step, features)\n",
    "for i in range(5):\n",
    "    print(x_train[i])\n",
    "    print(y_train[i])\n",
    "    print()"
   ]
  },
  {
   "cell_type": "code",
   "execution_count": 8,
   "metadata": {},
   "outputs": [],
   "source": [
    "class LossHistory(keras.callbacks.Callback):\n",
    "    def init(self):\n",
    "        self.losses = []\n",
    "        \n",
    "    def on_epoch_end(self, batch, logs={}):\n",
    "        self.losses.append(logs.get('loss'))"
   ]
  },
  {
   "cell_type": "code",
   "execution_count": 9,
   "metadata": {},
   "outputs": [],
   "source": [
    "history = LossHistory()\n",
    "history.init()\n",
    "\n",
    "model = Sequential()\n",
    "model.add(SimpleRNN(units=256))\n",
    "model.add(Dense(features))\n",
    "model.compile(loss='mse', optimizer='RMSprop', metrics=['accuracy'])"
   ]
  },
  {
   "cell_type": "code",
   "execution_count": 19,
   "metadata": {},
   "outputs": [
    {
     "name": "stdout",
     "output_type": "stream",
     "text": [
      "Epoch 1/100\n",
      "1/1 [==============================] - 0s 1ms/step - loss: 1.3763 - accuracy: 0.6522\n",
      "Epoch 2/100\n",
      "1/1 [==============================] - 0s 0s/step - loss: 1.2296 - accuracy: 0.7391\n",
      "Epoch 3/100\n",
      "1/1 [==============================] - 0s 0s/step - loss: 1.1139 - accuracy: 0.7391\n",
      "Epoch 4/100\n",
      "1/1 [==============================] - 0s 2ms/step - loss: 1.0378 - accuracy: 0.6957\n",
      "Epoch 5/100\n",
      "1/1 [==============================] - 0s 999us/step - loss: 0.9957 - accuracy: 0.7391\n",
      "Epoch 6/100\n",
      "1/1 [==============================] - 0s 999us/step - loss: 0.9807 - accuracy: 0.6957\n",
      "Epoch 7/100\n",
      "1/1 [==============================] - 0s 993us/step - loss: 0.9860 - accuracy: 0.7826\n",
      "Epoch 8/100\n",
      "1/1 [==============================] - 0s 998us/step - loss: 1.0012 - accuracy: 0.6957\n",
      "Epoch 9/100\n",
      "1/1 [==============================] - 0s 2ms/step - loss: 0.9789 - accuracy: 0.7826\n",
      "Epoch 10/100\n",
      "1/1 [==============================] - 0s 999us/step - loss: 0.9552 - accuracy: 0.6957\n",
      "Epoch 11/100\n",
      "1/1 [==============================] - 0s 1000us/step - loss: 0.8549 - accuracy: 0.7826\n",
      "Epoch 12/100\n",
      "1/1 [==============================] - 0s 2ms/step - loss: 0.8177 - accuracy: 0.7391\n",
      "Epoch 13/100\n",
      "1/1 [==============================] - 0s 1ms/step - loss: 0.7849 - accuracy: 0.7391\n",
      "Epoch 14/100\n",
      "1/1 [==============================] - 0s 998us/step - loss: 0.7937 - accuracy: 0.7826\n",
      "Epoch 15/100\n",
      "1/1 [==============================] - 0s 1000us/step - loss: 0.7186 - accuracy: 0.7391\n",
      "Epoch 16/100\n",
      "1/1 [==============================] - 0s 2ms/step - loss: 0.6669 - accuracy: 0.8261\n",
      "Epoch 17/100\n",
      "1/1 [==============================] - 0s 999us/step - loss: 0.6020 - accuracy: 0.7391\n",
      "Epoch 18/100\n",
      "1/1 [==============================] - 0s 2ms/step - loss: 0.5723 - accuracy: 0.7826\n",
      "Epoch 19/100\n",
      "1/1 [==============================] - 0s 2ms/step - loss: 0.5640 - accuracy: 0.7826\n",
      "Epoch 20/100\n",
      "1/1 [==============================] - 0s 1000us/step - loss: 0.5940 - accuracy: 0.7391\n",
      "Epoch 21/100\n",
      "1/1 [==============================] - 0s 999us/step - loss: 0.6574 - accuracy: 0.8261\n",
      "Epoch 22/100\n",
      "1/1 [==============================] - 0s 2ms/step - loss: 0.6360 - accuracy: 0.7826\n",
      "Epoch 23/100\n",
      "1/1 [==============================] - 0s 1000us/step - loss: 0.5861 - accuracy: 0.8261\n",
      "Epoch 24/100\n",
      "1/1 [==============================] - 0s 2ms/step - loss: 0.4823 - accuracy: 0.7826\n",
      "Epoch 25/100\n",
      "1/1 [==============================] - 0s 2ms/step - loss: 0.4294 - accuracy: 0.8261\n",
      "Epoch 26/100\n",
      "1/1 [==============================] - 0s 998us/step - loss: 0.3940 - accuracy: 0.7826\n",
      "Epoch 27/100\n",
      "1/1 [==============================] - 0s 2ms/step - loss: 0.3736 - accuracy: 0.8261\n",
      "Epoch 28/100\n",
      "1/1 [==============================] - 0s 999us/step - loss: 0.3796 - accuracy: 0.8261\n",
      "Epoch 29/100\n",
      "1/1 [==============================] - 0s 2ms/step - loss: 0.4082 - accuracy: 0.7826\n",
      "Epoch 30/100\n",
      "1/1 [==============================] - 0s 998us/step - loss: 0.4545 - accuracy: 0.7826\n",
      "Epoch 31/100\n",
      "1/1 [==============================] - 0s 999us/step - loss: 0.4450 - accuracy: 0.7826\n",
      "Epoch 32/100\n",
      "1/1 [==============================] - 0s 1ms/step - loss: 0.4065 - accuracy: 0.7391\n",
      "Epoch 33/100\n",
      "1/1 [==============================] - 0s 1ms/step - loss: 0.3423 - accuracy: 0.8696\n",
      "Epoch 34/100\n",
      "1/1 [==============================] - 0s 2ms/step - loss: 0.3549 - accuracy: 0.6957\n",
      "Epoch 35/100\n",
      "1/1 [==============================] - 0s 999us/step - loss: 0.3589 - accuracy: 0.8696\n",
      "Epoch 36/100\n",
      "1/1 [==============================] - 0s 1000us/step - loss: 0.3814 - accuracy: 0.6957\n",
      "Epoch 37/100\n",
      "1/1 [==============================] - 0s 1000us/step - loss: 0.3038 - accuracy: 0.8696\n",
      "Epoch 38/100\n",
      "1/1 [==============================] - 0s 999us/step - loss: 0.2455 - accuracy: 0.7391\n",
      "Epoch 39/100\n",
      "1/1 [==============================] - 0s 1ms/step - loss: 0.1952 - accuracy: 0.8261\n",
      "Epoch 40/100\n",
      "1/1 [==============================] - 0s 999us/step - loss: 0.1694 - accuracy: 0.8696\n",
      "Epoch 41/100\n",
      "1/1 [==============================] - 0s 2ms/step - loss: 0.1526 - accuracy: 0.8261\n",
      "Epoch 42/100\n",
      "1/1 [==============================] - 0s 1000us/step - loss: 0.1443 - accuracy: 0.9130\n",
      "Epoch 43/100\n",
      "1/1 [==============================] - 0s 1000us/step - loss: 0.1476 - accuracy: 0.8696\n",
      "Epoch 44/100\n",
      "1/1 [==============================] - 0s 999us/step - loss: 0.1845 - accuracy: 0.9130\n",
      "Epoch 45/100\n",
      "1/1 [==============================] - 0s 1ms/step - loss: 0.2854 - accuracy: 0.7391\n",
      "Epoch 46/100\n",
      "1/1 [==============================] - 0s 1000us/step - loss: 0.4316 - accuracy: 0.7826\n",
      "Epoch 47/100\n",
      "1/1 [==============================] - 0s 2ms/step - loss: 0.4060 - accuracy: 0.6957\n",
      "Epoch 48/100\n",
      "1/1 [==============================] - 0s 2ms/step - loss: 0.2946 - accuracy: 0.8696\n",
      "Epoch 49/100\n",
      "1/1 [==============================] - 0s 1000us/step - loss: 0.2104 - accuracy: 0.9130\n",
      "Epoch 50/100\n",
      "1/1 [==============================] - 0s 998us/step - loss: 0.1483 - accuracy: 0.8696\n",
      "Epoch 51/100\n",
      "1/1 [==============================] - 0s 2ms/step - loss: 0.1242 - accuracy: 0.8696\n",
      "Epoch 52/100\n",
      "1/1 [==============================] - 0s 999us/step - loss: 0.1142 - accuracy: 0.9130\n",
      "Epoch 53/100\n",
      "1/1 [==============================] - 0s 2ms/step - loss: 0.1143 - accuracy: 0.8696\n",
      "Epoch 54/100\n",
      "1/1 [==============================] - 0s 2ms/step - loss: 0.1225 - accuracy: 0.8261\n",
      "Epoch 55/100\n",
      "1/1 [==============================] - 0s 999us/step - loss: 0.1361 - accuracy: 0.8696\n",
      "Epoch 56/100\n",
      "1/1 [==============================] - 0s 999us/step - loss: 0.1488 - accuracy: 0.7391\n",
      "Epoch 57/100\n",
      "1/1 [==============================] - 0s 999us/step - loss: 0.1634 - accuracy: 0.8261\n",
      "Epoch 58/100\n",
      "1/1 [==============================] - 0s 999us/step - loss: 0.1602 - accuracy: 0.7826\n",
      "Epoch 59/100\n",
      "1/1 [==============================] - 0s 1000us/step - loss: 0.1593 - accuracy: 0.9130\n",
      "Epoch 60/100\n",
      "1/1 [==============================] - 0s 999us/step - loss: 0.1508 - accuracy: 0.8696\n",
      "Epoch 61/100\n",
      "1/1 [==============================] - 0s 999us/step - loss: 0.1825 - accuracy: 0.9130\n",
      "Epoch 62/100\n",
      "1/1 [==============================] - 0s 999us/step - loss: 0.1755 - accuracy: 0.9565\n",
      "Epoch 63/100\n",
      "1/1 [==============================] - 0s 2ms/step - loss: 0.1702 - accuracy: 0.8696\n",
      "Epoch 64/100\n",
      "1/1 [==============================] - 0s 999us/step - loss: 0.1174 - accuracy: 0.9565\n",
      "Epoch 65/100\n",
      "1/1 [==============================] - 0s 998us/step - loss: 0.0954 - accuracy: 0.8696\n",
      "Epoch 66/100\n",
      "1/1 [==============================] - 0s 1ms/step - loss: 0.0837 - accuracy: 0.9565\n",
      "Epoch 67/100\n",
      "1/1 [==============================] - 0s 999us/step - loss: 0.0985 - accuracy: 0.8696\n",
      "Epoch 68/100\n",
      "1/1 [==============================] - 0s 1000us/step - loss: 0.1170 - accuracy: 0.9130\n",
      "Epoch 69/100\n",
      "1/1 [==============================] - 0s 999us/step - loss: 0.1464 - accuracy: 0.9130\n",
      "Epoch 70/100\n",
      "1/1 [==============================] - 0s 999us/step - loss: 0.1329 - accuracy: 0.9130\n",
      "Epoch 71/100\n",
      "1/1 [==============================] - 0s 1000us/step - loss: 0.1178 - accuracy: 0.9565\n",
      "Epoch 72/100\n",
      "1/1 [==============================] - 0s 2ms/step - loss: 0.0778 - accuracy: 0.9130\n",
      "Epoch 73/100\n",
      "1/1 [==============================] - 0s 999us/step - loss: 0.0550 - accuracy: 0.9130\n",
      "Epoch 74/100\n",
      "1/1 [==============================] - 0s 2ms/step - loss: 0.0496 - accuracy: 1.0000\n",
      "Epoch 75/100\n",
      "1/1 [==============================] - 0s 1000us/step - loss: 0.0702 - accuracy: 0.8261\n",
      "Epoch 76/100\n",
      "1/1 [==============================] - 0s 2ms/step - loss: 0.1405 - accuracy: 0.9565\n",
      "Epoch 77/100\n",
      "1/1 [==============================] - 0s 1ms/step - loss: 0.2432 - accuracy: 0.6957\n",
      "Epoch 78/100\n",
      "1/1 [==============================] - 0s 999us/step - loss: 0.2227 - accuracy: 1.0000\n",
      "Epoch 79/100\n",
      "1/1 [==============================] - 0s 1ms/step - loss: 0.1447 - accuracy: 0.9130\n",
      "Epoch 80/100\n",
      "1/1 [==============================] - 0s 998us/step - loss: 0.0786 - accuracy: 0.9130\n",
      "Epoch 81/100\n",
      "1/1 [==============================] - 0s 999us/step - loss: 0.0645 - accuracy: 0.9565\n",
      "Epoch 82/100\n",
      "1/1 [==============================] - 0s 1000us/step - loss: 0.0612 - accuracy: 0.8696\n",
      "Epoch 83/100\n"
     ]
    },
    {
     "name": "stdout",
     "output_type": "stream",
     "text": [
      "1/1 [==============================] - 0s 999us/step - loss: 0.0661 - accuracy: 0.9565\n",
      "Epoch 84/100\n",
      "1/1 [==============================] - 0s 2ms/step - loss: 0.0667 - accuracy: 0.8261\n",
      "Epoch 85/100\n",
      "1/1 [==============================] - 0s 999us/step - loss: 0.0714 - accuracy: 0.9565\n",
      "Epoch 86/100\n",
      "1/1 [==============================] - 0s 2ms/step - loss: 0.0712 - accuracy: 0.7826\n",
      "Epoch 87/100\n",
      "1/1 [==============================] - 0s 999us/step - loss: 0.0737 - accuracy: 0.9565\n",
      "Epoch 88/100\n",
      "1/1 [==============================] - 0s 998us/step - loss: 0.0671 - accuracy: 0.9130\n",
      "Epoch 89/100\n",
      "1/1 [==============================] - 0s 2ms/step - loss: 0.0549 - accuracy: 0.9565\n",
      "Epoch 90/100\n",
      "1/1 [==============================] - 0s 2ms/step - loss: 0.0414 - accuracy: 0.9565\n",
      "Epoch 91/100\n",
      "1/1 [==============================] - 0s 2ms/step - loss: 0.0335 - accuracy: 0.8696\n",
      "Epoch 92/100\n",
      "1/1 [==============================] - 0s 1ms/step - loss: 0.0345 - accuracy: 1.0000\n",
      "Epoch 93/100\n",
      "1/1 [==============================] - 0s 2ms/step - loss: 0.0480 - accuracy: 0.8696\n",
      "Epoch 94/100\n",
      "1/1 [==============================] - 0s 998us/step - loss: 0.0767 - accuracy: 1.0000\n",
      "Epoch 95/100\n",
      "1/1 [==============================] - 0s 2ms/step - loss: 0.1150 - accuracy: 0.8261\n",
      "Epoch 96/100\n",
      "1/1 [==============================] - 0s 1000us/step - loss: 0.1239 - accuracy: 1.0000\n",
      "Epoch 97/100\n",
      "1/1 [==============================] - 0s 999us/step - loss: 0.0984 - accuracy: 0.8696\n",
      "Epoch 98/100\n",
      "1/1 [==============================] - 0s 2ms/step - loss: 0.0767 - accuracy: 1.0000\n",
      "Epoch 99/100\n",
      "1/1 [==============================] - 0s 999us/step - loss: 0.0750 - accuracy: 0.9565\n",
      "Epoch 100/100\n",
      "1/1 [==============================] - 0s 999us/step - loss: 0.0934 - accuracy: 0.9130\n"
     ]
    },
    {
     "data": {
      "text/plain": [
       "<tensorflow.python.keras.callbacks.History at 0x184eb9bdcc8>"
      ]
     },
     "execution_count": 19,
     "metadata": {},
     "output_type": "execute_result"
    }
   ],
   "source": [
    "model.fit(x_train, y_train, epochs=100, batch_size=128, callbacks=[history])"
   ]
  },
  {
   "cell_type": "code",
   "execution_count": 20,
   "metadata": {},
   "outputs": [
    {
     "data": {
      "image/png": "[encoded data removed]",
      "text/plain": [
       "<Figure size 432x288 with 1 Axes>"
      ]
     },
     "metadata": {
      "needs_background": "light"
     },
     "output_type": "display_data"
    }
   ],
   "source": [
    "loss = history.losses\n",
    "epochs = range(len(loss))\n",
    "plt.plot(epochs, loss)\n",
    "plt.show()"
   ]
  },
  {
   "cell_type": "code",
   "execution_count": 21,
   "metadata": {},
   "outputs": [],
   "source": [
    "y_hat = []\n",
    "for trained_x in x_train:\n",
    "    trained_x = trained_x.reshape(1, seek_step, features)\n",
    "    y_hat.append(model.predict(trained_x))\n",
    "length = range(len(y_hat))\n",
    "y_hat = np.squeeze(y_hat)"
   ]
  },
  {
   "cell_type": "code",
   "execution_count": 22,
   "metadata": {},
   "outputs": [
    {
     "data": {
      "image/png": "[encoded data removed]",
      "text/plain": [
       "<Figure size 432x288 with 1 Axes>"
      ]
     },
     "metadata": {
      "needs_background": "light"
     },
     "output_type": "display_data"
    }
   ],
   "source": [
    "fig, ax = plt.subplots()\n",
    "real = ax.bar(x=np.arange(len(y_train[:, 0])), height=y_train[:, 0], width=0.35)\n",
    "pred = ax.bar(x=np.arange(len(y_hat[:, 0])), height=y_hat[:, 0], width=0.35)\n",
    "plt.show()"
   ]
  },
  {
   "cell_type": "code",
   "execution_count": 23,
   "metadata": {},
   "outputs": [
    {
     "data": {
      "image/png": "[encoded data removed]",
      "text/plain": [
       "<Figure size 432x288 with 1 Axes>"
      ]
     },
     "metadata": {
      "needs_background": "light"
     },
     "output_type": "display_data"
    }
   ],
   "source": [
    "fig, ax = plt.subplots()\n",
    "real = ax.bar(x=np.arange(len(y_train[:, 1])), height=y_train[:, 1], width=0.35)\n",
    "pred = ax.bar(x=np.arange(len(y_hat[:, 1])), height=y_hat[:, 1], width=0.35)\n",
    "plt.show()"
   ]
  },
  {
   "cell_type": "code",
   "execution_count": 24,
   "metadata": {},
   "outputs": [
    {
     "data": {
      "image/png": "[encoded data removed]",
      "text/plain": [
       "<Figure size 432x288 with 1 Axes>"
      ]
     },
     "metadata": {
      "needs_background": "light"
     },
     "output_type": "display_data"
    }
   ],
   "source": [
    "fig, ax = plt.subplots()\n",
    "real = ax.bar(x=np.arange(len(y_train[:, 2])), height=y_train[:, 2], width=0.35)\n",
    "pred = ax.bar(x=np.arange(len(y_hat[:, 2])), height=y_hat[:, 2], width=0.35)\n",
    "plt.show()"
   ]
  },
  {
   "cell_type": "code",
   "execution_count": 25,
   "metadata": {},
   "outputs": [
    {
     "data": {
      "image/png": "[encoded data removed]",
      "text/plain": [
       "<Figure size 432x288 with 1 Axes>"
      ]
     },
     "metadata": {
      "needs_background": "light"
     },
     "output_type": "display_data"
    }
   ],
   "source": [
    "x_test = model.predict(train_dataset[-5:].reshape(1, seek_step, features))\n",
    "x_test = np.squeeze(x_test)\n",
    "y_test = np.squeeze(test_dataset)\n",
    "\n",
    "fig, ax = plt.subplots()\n",
    "real = ax.bar(x=np.arange(len(x_test)), height=x_test, width=0.35)\n",
    "pred = ax.bar(x=np.arange(len(y_test)), height=y_test, width=0.35)\n",
    "plt.show()"
   ]
  },
  {
   "cell_type": "code",
   "execution_count": null,
   "metadata": {},
   "outputs": [],
   "source": []
  },
  {
   "cell_type": "code",
   "execution_count": null,
   "metadata": {},
   "outputs": [],
   "source": []
  }
 ],
 "metadata": {
  "kernelspec": {
   "display_name": "Python 3",
   "language": "python",
   "name": "python3"
  },
  "language_info": {
   "codemirror_mode": {
    "name": "ipython",
    "version": 3
   },
   "file_extension": ".py",
   "mimetype": "text/x-python",
   "name": "python",
   "nbconvert_exporter": "python",
   "pygments_lexer": "ipython3",
   "version": "3.7.7"
  }
 },
 "nbformat": 4,
 "nbformat_minor": 4
}
