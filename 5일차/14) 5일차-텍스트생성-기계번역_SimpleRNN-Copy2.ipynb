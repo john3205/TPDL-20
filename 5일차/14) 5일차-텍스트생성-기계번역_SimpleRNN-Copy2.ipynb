{
 "cells": [
  {
   "cell_type": "markdown",
   "metadata": {},
   "source": [
    "## 텍스트 생성 - 한글->영어 기계 번역"
   ]
  },
  {
   "cell_type": "code",
   "execution_count": 1,
   "metadata": {},
   "outputs": [],
   "source": [
    "# 사용 모듈 import\n",
    "import os\n",
    "import pandas as pd\n",
    "import numpy as np\n",
    "from pprint import pprint\n",
    "\n",
    "from tensorflow import keras\n",
    "from tensorflow.keras.models import Model\n",
    "from tensorflow.keras.layers import Dense, SimpleRNN, Input\n",
    "from tensorflow.keras.utils import to_categorical\n",
    "\n",
    "from IPython.display import SVG\n",
    "from tensorflow.keras.utils import model_to_dot"
   ]
  },
  {
   "cell_type": "code",
   "execution_count": 2,
   "metadata": {},
   "outputs": [],
   "source": [
    "# 데이터 읽기\n",
    "d_path = '../data/Chatbot_data-master/ChatbotData.csv'"
   ]
  },
  {
   "cell_type": "code",
   "execution_count": 3,
   "metadata": {},
   "outputs": [
    {
     "name": "stdout",
     "output_type": "stream",
     "text": [
      "                             Q                         A  label\n",
      "0                       12시 땡!                하루가 또 가네요.      0\n",
      "1                  1지망 학교 떨어졌어                 위로해 드립니다.      0\n",
      "2                 3박4일 놀러가고 싶다               여행은 언제나 좋죠.      0\n",
      "3              3박4일 정도 놀러가고 싶다               여행은 언제나 좋죠.      0\n",
      "4                      PPL 심하네                눈살이 찌푸려지죠.      0\n",
      "...                        ...                       ...    ...\n",
      "11818           훔쳐보는 것도 눈치 보임.        티가 나니까 눈치가 보이는 거죠!      2\n",
      "11819           훔쳐보는 것도 눈치 보임.             훔쳐보는 거 티나나봐요.      2\n",
      "11820              흑기사 해주는 짝남.                    설렜겠어요.      2\n",
      "11821  힘든 연애 좋은 연애라는게 무슨 차이일까?  잘 헤어질 수 있는 사이 여부인 거 같아요.      2\n",
      "11822               힘들어서 결혼할까봐        도피성 결혼은 하지 않길 바라요.      2\n",
      "\n",
      "[11823 rows x 3 columns]\n"
     ]
    }
   ],
   "source": [
    "# 데이터 읽기 및 확인\n",
    "xlsx = pd.read_csv(d_path)\n",
    "print(xlsx)"
   ]
  },
  {
   "cell_type": "code",
   "execution_count": 4,
   "metadata": {},
   "outputs": [
    {
     "name": "stdout",
     "output_type": "stream",
     "text": [
      "0                         12시 땡!\n",
      "1                    1지망 학교 떨어졌어\n",
      "2                   3박4일 놀러가고 싶다\n",
      "3                3박4일 정도 놀러가고 싶다\n",
      "4                        PPL 심하네\n",
      "                  ...           \n",
      "11818             훔쳐보는 것도 눈치 보임.\n",
      "11819             훔쳐보는 것도 눈치 보임.\n",
      "11820                흑기사 해주는 짝남.\n",
      "11821    힘든 연애 좋은 연애라는게 무슨 차이일까?\n",
      "11822                 힘들어서 결혼할까봐\n",
      "Name: Q, Length: 11823, dtype: object\n"
     ]
    }
   ],
   "source": [
    "# 데이터 확인\n",
    "print(xlsx['Q'])"
   ]
  },
  {
   "cell_type": "code",
   "execution_count": 5,
   "metadata": {},
   "outputs": [
    {
     "name": "stdout",
     "output_type": "stream",
     "text": [
      "0                      하루가 또 가네요.\n",
      "1                       위로해 드립니다.\n",
      "2                     여행은 언제나 좋죠.\n",
      "3                     여행은 언제나 좋죠.\n",
      "4                      눈살이 찌푸려지죠.\n",
      "                   ...           \n",
      "11818          티가 나니까 눈치가 보이는 거죠!\n",
      "11819               훔쳐보는 거 티나나봐요.\n",
      "11820                      설렜겠어요.\n",
      "11821    잘 헤어질 수 있는 사이 여부인 거 같아요.\n",
      "11822          도피성 결혼은 하지 않길 바라요.\n",
      "Name: A, Length: 11823, dtype: object\n"
     ]
    }
   ],
   "source": [
    "# 데이터 확인\n",
    "print(xlsx['A'])"
   ]
  },
  {
   "cell_type": "code",
   "execution_count": 6,
   "metadata": {},
   "outputs": [
    {
     "name": "stdout",
     "output_type": "stream",
     "text": [
      "11823\n",
      "array(['12시 땡!', '1지망 학교 떨어졌어', '3박4일 놀러가고 싶다', '3박4일 정도 놀러가고 싶다',\n",
      "       'PPL 심하네'], dtype=object)\n"
     ]
    }
   ],
   "source": [
    "# 사용할 데이터만 추출\n",
    "kor_sentences = xlsx['Q'].values\n",
    "print(len(kor_sentences))\n",
    "pprint(kor_sentences[:5])\n",
    "kor_sentences = kor_sentences[:100]"
   ]
  },
  {
   "cell_type": "code",
   "execution_count": 7,
   "metadata": {},
   "outputs": [
    {
     "name": "stdout",
     "output_type": "stream",
     "text": [
      "11823\n",
      "array(['하루가 또 가네요.', '위로해 드립니다.', '여행은 언제나 좋죠.', '여행은 언제나 좋죠.',\n",
      "       '눈살이 찌푸려지죠.'], dtype=object)\n"
     ]
    }
   ],
   "source": [
    "# 사용할 데이터만 추출\n",
    "eng_sentences = xlsx['A'].values\n",
    "print(len(eng_sentences))\n",
    "pprint(eng_sentences[:5])\n",
    "eng_sentences = eng_sentences[:100]"
   ]
  },
  {
   "cell_type": "code",
   "execution_count": 8,
   "metadata": {},
   "outputs": [],
   "source": [
    "# 한글 words_set 생성\n",
    "kor_words_set = set()\n",
    "kor_max_len = 0\n",
    "for ix, sentence in enumerate(kor_sentences):\n",
    "    words = [word.strip() for word in sentence.strip().split(' ')]\n",
    "\n",
    "    if len(words) > kor_max_len:\n",
    "        kor_max_len = len(words)\n",
    "    while '' in words:\n",
    "        words.remove('')\n",
    "    kor_words_set.update(words)"
   ]
  },
  {
   "cell_type": "code",
   "execution_count": 9,
   "metadata": {},
   "outputs": [
    {
     "name": "stdout",
     "output_type": "stream",
     "text": [
      "#kor words:  238\n",
      "max seq length:  8\n"
     ]
    }
   ],
   "source": [
    "# 한글 words_set 확인\n",
    "kor_words_set = list(sorted(kor_words_set))\n",
    "kor_words_set.insert(0, '')\n",
    "print('#kor words: ', len(kor_words_set))\n",
    "print('max seq length: ', kor_max_len)"
   ]
  },
  {
   "cell_type": "code",
   "execution_count": 10,
   "metadata": {},
   "outputs": [],
   "source": [
    "# 영어 words_set 생성\n",
    "eng_words_set = set()\n",
    "eng_max_len = 0\n",
    "for ix, sentence in enumerate(eng_sentences):\n",
    "    words = [word.strip() for word in sentence.strip().split(' ')]\n",
    "    if len(words) > eng_max_len:\n",
    "        eng_max_len = len(words)\n",
    "    while '' in words:\n",
    "        words.remove('')\n",
    "    eng_words_set.update(words)\n",
    "eng_words_set.update(['<start>', '<eos>'])"
   ]
  },
  {
   "cell_type": "code",
   "execution_count": 11,
   "metadata": {},
   "outputs": [
    {
     "name": "stdout",
     "output_type": "stream",
     "text": [
      "#end words 216\n",
      "max seq length:  12\n"
     ]
    }
   ],
   "source": [
    "# 영어 words_set 확인\n",
    "eng_words_set = list(sorted(eng_words_set))\n",
    "eng_words_set.insert(0, '')\n",
    "print('#end words', len(eng_words_set))\n",
    "print('max seq length: ', eng_max_len)"
   ]
  },
  {
   "cell_type": "code",
   "execution_count": 12,
   "metadata": {},
   "outputs": [],
   "source": [
    "# 한국어 문장 정수 인코딩 및 패딩 함수 작성\n",
    "def kor_encoding(sentence):\n",
    "    words = [word.strip() for word in sentence.strip().split(' ')]\n",
    "    while '' in words:\n",
    "        words.remove('')\n",
    "\n",
    "    words = [kor_words_set.index(word) for word in words]\n",
    "    encode_sentence = words\n",
    "    for _ in range(kor_max_len-len(encode_sentence)):\n",
    "        encode_sentence.insert(0, 0)\n",
    "    return np.asarray(encode_sentence).astype('float')"
   ]
  },
  {
   "cell_type": "code",
   "execution_count": 13,
   "metadata": {},
   "outputs": [
    {
     "name": "stdout",
     "output_type": "stream",
     "text": [
      "[[  0.   0.   0.   0.   0.   0.   1. 117.]\n",
      " [  0.   0.   0.   0.   0.   2. 228. 119.]\n",
      " [  0.   0.   0.   0.   0.   3.  99. 170.]\n",
      " [  0.   0.   0.   0.   3. 207.  99. 170.]\n",
      " [  0.   0.   0.   0.   0.   0.   4. 169.]]\n"
     ]
    }
   ],
   "source": [
    "# 한국어 인코딩 및 데이터 확인\n",
    "encode_sentences = []\n",
    "for sentence in kor_sentences:\n",
    "    encode_sentences.append(kor_encoding(sentence))\n",
    "encode_sentences = np.asarray(encode_sentences).astype('float')\n",
    "print(encode_sentences[:5])"
   ]
  },
  {
   "cell_type": "code",
   "execution_count": 14,
   "metadata": {},
   "outputs": [],
   "source": [
    "# 영어 문장 Special Symbol 포함 정수 인코딩 및 패딩\n",
    "decode_sentences = []\n",
    "for sentence in eng_sentences:\n",
    "    words = [word.strip() for word in sentence.strip().split(' ')]\n",
    "    while '' in words:\n",
    "        words.remove('')\n",
    "    \n",
    "    words = [eng_words_set.index(word) for word in words]\n",
    "    decode_sentence = words\n",
    "    for _ in range(eng_max_len-len(decode_sentence)):\n",
    "        decode_sentence.insert(0, 0)\n",
    "    decode_sentence[0]=eng_words_set.index('<start>')\n",
    "    decode_sentence.append(eng_words_set.index('<eos>'))\n",
    "    decode_sentences.append(decode_sentence)\n",
    "decode_sentences = np.asarray(decode_sentences).astype('float')"
   ]
  },
  {
   "cell_type": "code",
   "execution_count": 15,
   "metadata": {},
   "outputs": [
    {
     "name": "stdout",
     "output_type": "stream",
     "text": [
      "[[  3.   0.   0.   0.   0.   0.   0.   0.   0. 206.  67.   5.   2.]\n",
      " [  3.   0.   0.   0.   0.   0.   0.   0.   0.   0. 153.  58.   2.]\n",
      " [  3.   0.   0.   0.   0.   0.   0.   0.   0. 143. 141. 184.   2.]\n",
      " [  3.   0.   0.   0.   0.   0.   0.   0.   0. 143. 141. 184.   2.]\n",
      " [  3.   0.   0.   0.   0.   0.   0.   0.   0.   0.  41. 196.   2.]]\n"
     ]
    }
   ],
   "source": [
    "# 데이터 확인\n",
    "print(decode_sentences[:5])"
   ]
  },
  {
   "cell_type": "code",
   "execution_count": 16,
   "metadata": {},
   "outputs": [],
   "source": [
    "# 모든 데이터 One hot 인코딩\n",
    "encoder_train = to_categorical(encode_sentences)\n",
    "decoder_train = to_categorical(decode_sentences[:, :-1])\n",
    "decoder_target = to_categorical(decode_sentences[:, 1:])"
   ]
  },
  {
   "cell_type": "code",
   "execution_count": 17,
   "metadata": {},
   "outputs": [
    {
     "name": "stdout",
     "output_type": "stream",
     "text": [
      "(100, 8, 238)\n",
      "(100, 12, 216)\n",
      "(100, 12, 216)\n",
      "[[[1. 0. 0. ... 0. 0. 0.]\n",
      "  [1. 0. 0. ... 0. 0. 0.]\n",
      "  [1. 0. 0. ... 0. 0. 0.]\n",
      "  ...\n",
      "  [1. 0. 0. ... 0. 0. 0.]\n",
      "  [0. 1. 0. ... 0. 0. 0.]\n",
      "  [0. 0. 0. ... 0. 0. 0.]]\n",
      "\n",
      " [[1. 0. 0. ... 0. 0. 0.]\n",
      "  [1. 0. 0. ... 0. 0. 0.]\n",
      "  [1. 0. 0. ... 0. 0. 0.]\n",
      "  ...\n",
      "  [0. 0. 1. ... 0. 0. 0.]\n",
      "  [0. 0. 0. ... 0. 0. 0.]\n",
      "  [0. 0. 0. ... 0. 0. 0.]]]\n",
      "[[[0. 0. 0. ... 0. 0. 0.]\n",
      "  [1. 0. 0. ... 0. 0. 0.]\n",
      "  [1. 0. 0. ... 0. 0. 0.]\n",
      "  ...\n",
      "  [0. 0. 0. ... 0. 0. 0.]\n",
      "  [0. 0. 0. ... 0. 0. 0.]\n",
      "  [0. 0. 0. ... 0. 0. 0.]]\n",
      "\n",
      " [[0. 0. 0. ... 0. 0. 0.]\n",
      "  [1. 0. 0. ... 0. 0. 0.]\n",
      "  [1. 0. 0. ... 0. 0. 0.]\n",
      "  ...\n",
      "  [1. 0. 0. ... 0. 0. 0.]\n",
      "  [0. 0. 0. ... 0. 0. 0.]\n",
      "  [0. 0. 0. ... 0. 0. 0.]]]\n",
      "[[[1. 0. 0. ... 0. 0. 0.]\n",
      "  [1. 0. 0. ... 0. 0. 0.]\n",
      "  [1. 0. 0. ... 0. 0. 0.]\n",
      "  ...\n",
      "  [0. 0. 0. ... 0. 0. 0.]\n",
      "  [0. 0. 0. ... 0. 0. 0.]\n",
      "  [0. 0. 1. ... 0. 0. 0.]]\n",
      "\n",
      " [[1. 0. 0. ... 0. 0. 0.]\n",
      "  [1. 0. 0. ... 0. 0. 0.]\n",
      "  [1. 0. 0. ... 0. 0. 0.]\n",
      "  ...\n",
      "  [0. 0. 0. ... 0. 0. 0.]\n",
      "  [0. 0. 0. ... 0. 0. 0.]\n",
      "  [0. 0. 1. ... 0. 0. 0.]]]\n"
     ]
    }
   ],
   "source": [
    "# 데이터 확인\n",
    "print(encoder_train.shape)\n",
    "print(decoder_target.shape)\n",
    "print(decoder_train.shape)\n",
    "print(encoder_train[:2])\n",
    "print(decoder_train[:2])\n",
    "print(decoder_target[:2])"
   ]
  },
  {
   "cell_type": "code",
   "execution_count": 18,
   "metadata": {},
   "outputs": [],
   "source": [
    "# Loss 저장을 위한 클래스 생성\n",
    "class LossHistory(keras.callbacks.Callback):\n",
    "    def init(self):\n",
    "        self.losses = []\n",
    "        \n",
    "    def on_epoch_end(self, batch, logs={}):\n",
    "        self.losses.append(logs.get('loss'))"
   ]
  },
  {
   "cell_type": "code",
   "execution_count": 19,
   "metadata": {},
   "outputs": [],
   "source": [
    "# RNN cell 개수, 및 단어 개수 설정\n",
    "num_units = 128\n",
    "kor_num_token = len(kor_words_set)\n",
    "eng_num_token = len(eng_words_set)"
   ]
  },
  {
   "cell_type": "code",
   "execution_count": 20,
   "metadata": {},
   "outputs": [],
   "source": [
    "# 인코더 레이어 생성 및 연결\n",
    "enc_inputs = Input(shape=(None, kor_num_token), name='encoder_input')\n",
    "enc = SimpleRNN(num_units, return_sequences=True, return_state=True, name='encoder')\n",
    "enc_outputs, enc_state = enc(enc_inputs)"
   ]
  },
  {
   "cell_type": "code",
   "execution_count": 21,
   "metadata": {},
   "outputs": [],
   "source": [
    "# 디코더 레이어 생성 및 연결\n",
    "dec_inputs = Input(shape=(None, eng_num_token), name='decoder_input')\n",
    "dec = SimpleRNN(num_units, return_sequences=True, return_state=True, name='decoder')\n",
    "dec_outputs, _ = dec(dec_inputs, initial_state=enc_state)\n",
    "dec_dense = Dense(eng_num_token, activation='softmax', name='decoder_output')\n",
    "dec_outputs = dec_dense(dec_outputs)"
   ]
  },
  {
   "cell_type": "code",
   "execution_count": 22,
   "metadata": {},
   "outputs": [],
   "source": [
    "# 모델 생성\n",
    "model = Model([enc_inputs, dec_inputs], dec_outputs)"
   ]
  },
  {
   "cell_type": "code",
   "execution_count": 23,
   "metadata": {},
   "outputs": [],
   "source": [
    "# 모델 컴파일\n",
    "model.compile(loss='categorical_crossentropy', optimizer='rmsprop', metrics=['accuracy'])"
   ]
  },
  {
   "cell_type": "code",
   "execution_count": 24,
   "metadata": {},
   "outputs": [
    {
     "name": "stdout",
     "output_type": "stream",
     "text": [
      "Epoch 1/100\n",
      "13/13 [==============================] - 0s 4ms/step - loss: 3.2885 - accuracy: 0.5492\n",
      "Epoch 2/100\n",
      "13/13 [==============================] - 0s 4ms/step - loss: 2.3004 - accuracy: 0.6400\n",
      "Epoch 3/100\n",
      "13/13 [==============================] - 0s 4ms/step - loss: 2.1801 - accuracy: 0.6625\n",
      "Epoch 4/100\n",
      "13/13 [==============================] - 0s 4ms/step - loss: 2.0856 - accuracy: 0.6717\n",
      "Epoch 5/100\n",
      "13/13 [==============================] - 0s 4ms/step - loss: 2.0636 - accuracy: 0.6700\n",
      "Epoch 6/100\n",
      "13/13 [==============================] - 0s 4ms/step - loss: 1.9453 - accuracy: 0.6867\n",
      "Epoch 7/100\n",
      "13/13 [==============================] - 0s 4ms/step - loss: 1.9341 - accuracy: 0.6842\n",
      "Epoch 8/100\n",
      "13/13 [==============================] - 0s 4ms/step - loss: 1.8787 - accuracy: 0.6850\n",
      "Epoch 9/100\n",
      "13/13 [==============================] - 0s 4ms/step - loss: 1.8255 - accuracy: 0.6883\n",
      "Epoch 10/100\n",
      "13/13 [==============================] - 0s 4ms/step - loss: 1.7808 - accuracy: 0.6925\n",
      "Epoch 11/100\n",
      "13/13 [==============================] - 0s 4ms/step - loss: 1.7337 - accuracy: 0.6942\n",
      "Epoch 12/100\n",
      "13/13 [==============================] - 0s 4ms/step - loss: 1.6765 - accuracy: 0.7000\n",
      "Epoch 13/100\n",
      "13/13 [==============================] - 0s 4ms/step - loss: 1.6470 - accuracy: 0.7025\n",
      "Epoch 14/100\n",
      "13/13 [==============================] - 0s 4ms/step - loss: 1.5999 - accuracy: 0.7100\n",
      "Epoch 15/100\n",
      "13/13 [==============================] - 0s 4ms/step - loss: 1.5670 - accuracy: 0.7117\n",
      "Epoch 16/100\n",
      "13/13 [==============================] - 0s 4ms/step - loss: 1.5542 - accuracy: 0.7117\n",
      "Epoch 17/100\n",
      "13/13 [==============================] - 0s 4ms/step - loss: 1.9677 - accuracy: 0.6658\n",
      "Epoch 18/100\n",
      "13/13 [==============================] - 0s 4ms/step - loss: 1.4222 - accuracy: 0.7308\n",
      "Epoch 19/100\n",
      "13/13 [==============================] - 0s 4ms/step - loss: 1.4027 - accuracy: 0.7358\n",
      "Epoch 20/100\n",
      "13/13 [==============================] - 0s 4ms/step - loss: 1.3812 - accuracy: 0.7333\n",
      "Epoch 21/100\n",
      "13/13 [==============================] - 0s 4ms/step - loss: 1.3412 - accuracy: 0.7458\n",
      "Epoch 22/100\n",
      "13/13 [==============================] - 0s 4ms/step - loss: 1.3031 - accuracy: 0.7550\n",
      "Epoch 23/100\n",
      "13/13 [==============================] - 0s 4ms/step - loss: 1.2642 - accuracy: 0.7558\n",
      "Epoch 24/100\n",
      "13/13 [==============================] - 0s 4ms/step - loss: 1.2048 - accuracy: 0.7633\n",
      "Epoch 25/100\n",
      "13/13 [==============================] - 0s 4ms/step - loss: 1.1950 - accuracy: 0.7742\n",
      "Epoch 26/100\n",
      "13/13 [==============================] - 0s 4ms/step - loss: 1.1497 - accuracy: 0.7808\n",
      "Epoch 27/100\n",
      "13/13 [==============================] - 0s 4ms/step - loss: 1.1166 - accuracy: 0.7833\n",
      "Epoch 28/100\n",
      "13/13 [==============================] - 0s 4ms/step - loss: 1.0752 - accuracy: 0.7983\n",
      "Epoch 29/100\n",
      "13/13 [==============================] - 0s 4ms/step - loss: 1.0347 - accuracy: 0.7983\n",
      "Epoch 30/100\n",
      "13/13 [==============================] - 0s 4ms/step - loss: 1.0254 - accuracy: 0.8075\n",
      "Epoch 31/100\n",
      "13/13 [==============================] - 0s 4ms/step - loss: 0.9708 - accuracy: 0.8125\n",
      "Epoch 32/100\n",
      "13/13 [==============================] - 0s 5ms/step - loss: 0.9756 - accuracy: 0.8175\n",
      "Epoch 33/100\n",
      "13/13 [==============================] - 0s 4ms/step - loss: 0.9322 - accuracy: 0.8200\n",
      "Epoch 34/100\n",
      "13/13 [==============================] - 0s 4ms/step - loss: 0.9034 - accuracy: 0.8275\n",
      "Epoch 35/100\n",
      "13/13 [==============================] - 0s 4ms/step - loss: 0.8804 - accuracy: 0.8333\n",
      "Epoch 36/100\n",
      "13/13 [==============================] - 0s 4ms/step - loss: 0.8370 - accuracy: 0.8383\n",
      "Epoch 37/100\n",
      "13/13 [==============================] - 0s 4ms/step - loss: 0.8042 - accuracy: 0.8475\n",
      "Epoch 38/100\n",
      "13/13 [==============================] - 0s 4ms/step - loss: 0.8025 - accuracy: 0.8533\n",
      "Epoch 39/100\n",
      "13/13 [==============================] - 0s 4ms/step - loss: 0.7502 - accuracy: 0.8583\n",
      "Epoch 40/100\n",
      "13/13 [==============================] - 0s 4ms/step - loss: 0.7328 - accuracy: 0.8675\n",
      "Epoch 41/100\n",
      "13/13 [==============================] - 0s 4ms/step - loss: 0.7092 - accuracy: 0.8725\n",
      "Epoch 42/100\n",
      "13/13 [==============================] - 0s 4ms/step - loss: 0.6739 - accuracy: 0.8733\n",
      "Epoch 43/100\n",
      "13/13 [==============================] - 0s 4ms/step - loss: 0.6585 - accuracy: 0.8742\n",
      "Epoch 44/100\n",
      "13/13 [==============================] - 0s 4ms/step - loss: 0.6156 - accuracy: 0.8858\n",
      "Epoch 45/100\n",
      "13/13 [==============================] - 0s 4ms/step - loss: 0.6112 - accuracy: 0.8867\n",
      "Epoch 46/100\n",
      "13/13 [==============================] - 0s 4ms/step - loss: 0.5779 - accuracy: 0.8892\n",
      "Epoch 47/100\n",
      "13/13 [==============================] - 0s 4ms/step - loss: 0.5566 - accuracy: 0.8967\n",
      "Epoch 48/100\n",
      "13/13 [==============================] - 0s 4ms/step - loss: 0.5310 - accuracy: 0.9017\n",
      "Epoch 49/100\n",
      "13/13 [==============================] - 0s 4ms/step - loss: 0.5213 - accuracy: 0.9025\n",
      "Epoch 50/100\n",
      "13/13 [==============================] - 0s 4ms/step - loss: 0.4782 - accuracy: 0.9083\n",
      "Epoch 51/100\n",
      "13/13 [==============================] - 0s 4ms/step - loss: 0.4828 - accuracy: 0.9125\n",
      "Epoch 52/100\n",
      "13/13 [==============================] - 0s 4ms/step - loss: 0.4554 - accuracy: 0.9108\n",
      "Epoch 53/100\n",
      "13/13 [==============================] - 0s 4ms/step - loss: 0.4296 - accuracy: 0.9150\n",
      "Epoch 54/100\n",
      "13/13 [==============================] - 0s 4ms/step - loss: 0.4145 - accuracy: 0.9275\n",
      "Epoch 55/100\n",
      "13/13 [==============================] - 0s 3ms/step - loss: 0.4002 - accuracy: 0.9225\n",
      "Epoch 56/100\n",
      "13/13 [==============================] - 0s 4ms/step - loss: 0.3717 - accuracy: 0.9317\n",
      "Epoch 57/100\n",
      "13/13 [==============================] - 0s 4ms/step - loss: 0.3597 - accuracy: 0.9383\n",
      "Epoch 58/100\n",
      "13/13 [==============================] - 0s 4ms/step - loss: 0.3586 - accuracy: 0.9417\n",
      "Epoch 59/100\n",
      "13/13 [==============================] - 0s 5ms/step - loss: 0.3218 - accuracy: 0.9483\n",
      "Epoch 60/100\n",
      "13/13 [==============================] - 0s 3ms/step - loss: 0.3330 - accuracy: 0.9467\n",
      "Epoch 61/100\n",
      "13/13 [==============================] - 0s 3ms/step - loss: 0.2930 - accuracy: 0.9533\n",
      "Epoch 62/100\n",
      "13/13 [==============================] - 0s 4ms/step - loss: 0.2828 - accuracy: 0.9508\n",
      "Epoch 63/100\n",
      "13/13 [==============================] - 0s 3ms/step - loss: 0.2738 - accuracy: 0.9592\n",
      "Epoch 64/100\n",
      "13/13 [==============================] - 0s 4ms/step - loss: 0.2562 - accuracy: 0.9625\n",
      "Epoch 65/100\n",
      "13/13 [==============================] - 0s 4ms/step - loss: 0.2511 - accuracy: 0.9608\n",
      "Epoch 66/100\n",
      "13/13 [==============================] - 0s 5ms/step - loss: 0.2271 - accuracy: 0.9692\n",
      "Epoch 67/100\n",
      "13/13 [==============================] - 0s 5ms/step - loss: 0.2210 - accuracy: 0.9675\n",
      "Epoch 68/100\n",
      "13/13 [==============================] - 0s 5ms/step - loss: 0.2188 - accuracy: 0.9667\n",
      "Epoch 69/100\n",
      "13/13 [==============================] - 0s 3ms/step - loss: 0.2107 - accuracy: 0.9692\n",
      "Epoch 70/100\n",
      "13/13 [==============================] - 0s 4ms/step - loss: 0.1866 - accuracy: 0.9733\n",
      "Epoch 71/100\n",
      "13/13 [==============================] - 0s 3ms/step - loss: 0.1755 - accuracy: 0.9725\n",
      "Epoch 72/100\n",
      "13/13 [==============================] - 0s 4ms/step - loss: 0.1679 - accuracy: 0.9742\n",
      "Epoch 73/100\n",
      "13/13 [==============================] - 0s 3ms/step - loss: 0.1651 - accuracy: 0.9750\n",
      "Epoch 74/100\n",
      "13/13 [==============================] - 0s 4ms/step - loss: 0.1581 - accuracy: 0.9733\n",
      "Epoch 75/100\n",
      "13/13 [==============================] - 0s 3ms/step - loss: 0.1426 - accuracy: 0.9800\n",
      "Epoch 76/100\n",
      "13/13 [==============================] - 0s 4ms/step - loss: 0.1323 - accuracy: 0.9825\n",
      "Epoch 77/100\n",
      "13/13 [==============================] - 0s 4ms/step - loss: 0.1371 - accuracy: 0.9817\n",
      "Epoch 78/100\n",
      "13/13 [==============================] - 0s 4ms/step - loss: 0.1133 - accuracy: 0.9850\n",
      "Epoch 79/100\n",
      "13/13 [==============================] - 0s 3ms/step - loss: 0.1180 - accuracy: 0.9842\n",
      "Epoch 80/100\n",
      "13/13 [==============================] - 0s 4ms/step - loss: 0.1162 - accuracy: 0.9842\n",
      "Epoch 81/100\n",
      "13/13 [==============================] - 0s 3ms/step - loss: 0.1022 - accuracy: 0.9875\n",
      "Epoch 82/100\n",
      "13/13 [==============================] - 0s 3ms/step - loss: 0.1025 - accuracy: 0.9875\n",
      "Epoch 83/100\n"
     ]
    },
    {
     "name": "stdout",
     "output_type": "stream",
     "text": [
      "13/13 [==============================] - 0s 4ms/step - loss: 0.0831 - accuracy: 0.9942\n",
      "Epoch 84/100\n",
      "13/13 [==============================] - 0s 3ms/step - loss: 0.0819 - accuracy: 0.9933\n",
      "Epoch 85/100\n",
      "13/13 [==============================] - 0s 4ms/step - loss: 0.0772 - accuracy: 0.9942\n",
      "Epoch 86/100\n",
      "13/13 [==============================] - 0s 3ms/step - loss: 0.0841 - accuracy: 0.9917\n",
      "Epoch 87/100\n",
      "13/13 [==============================] - 0s 3ms/step - loss: 0.0699 - accuracy: 0.9942\n",
      "Epoch 88/100\n",
      "13/13 [==============================] - 0s 4ms/step - loss: 0.0608 - accuracy: 0.9975\n",
      "Epoch 89/100\n",
      "13/13 [==============================] - 0s 4ms/step - loss: 0.0568 - accuracy: 0.9983\n",
      "Epoch 90/100\n",
      "13/13 [==============================] - 0s 4ms/step - loss: 0.0756 - accuracy: 0.9908\n",
      "Epoch 91/100\n",
      "13/13 [==============================] - 0s 4ms/step - loss: 0.0503 - accuracy: 0.9967\n",
      "Epoch 92/100\n",
      "13/13 [==============================] - 0s 4ms/step - loss: 0.0427 - accuracy: 1.0000\n",
      "Epoch 93/100\n",
      "13/13 [==============================] - 0s 4ms/step - loss: 0.0437 - accuracy: 0.9975\n",
      "Epoch 94/100\n",
      "13/13 [==============================] - 0s 4ms/step - loss: 0.0464 - accuracy: 0.9983\n",
      "Epoch 95/100\n",
      "13/13 [==============================] - 0s 4ms/step - loss: 0.0481 - accuracy: 0.9975\n",
      "Epoch 96/100\n",
      "13/13 [==============================] - 0s 4ms/step - loss: 0.0396 - accuracy: 0.9983\n",
      "Epoch 97/100\n",
      "13/13 [==============================] - 0s 4ms/step - loss: 0.0375 - accuracy: 0.9992\n",
      "Epoch 98/100\n",
      "13/13 [==============================] - 0s 4ms/step - loss: 0.0288 - accuracy: 0.9992\n",
      "Epoch 99/100\n",
      "13/13 [==============================] - 0s 4ms/step - loss: 0.0263 - accuracy: 1.0000\n",
      "Epoch 100/100\n",
      "13/13 [==============================] - 0s 4ms/step - loss: 0.0306 - accuracy: 0.9992\n"
     ]
    },
    {
     "data": {
      "text/plain": [
       "<tensorflow.python.keras.callbacks.History at 0x16b9f24a2c8>"
      ]
     },
     "execution_count": 24,
     "metadata": {},
     "output_type": "execute_result"
    }
   ],
   "source": [
    "# 모델 학습\n",
    "model.fit([encoder_train, decoder_train], decoder_target, batch_size=8, epochs=100)"
   ]
  },
  {
   "cell_type": "code",
   "execution_count": 25,
   "metadata": {},
   "outputs": [
    {
     "data": {
      "image/svg+xml": [
       "<svg height=\"274pt\" viewBox=\"0.00 0.00 653.50 304.00\" width=\"590pt\" xmlns=\"http://www.w3.org/2000/svg\" xmlns:xlink=\"http://www.w3.org/1999/xlink\">\n",
       "<g class=\"graph\" id=\"graph0\" transform=\"scale(0.902778 0.902778) rotate(0) translate(4 300)\">\n",
       "<title>G</title>\n",
       "<polygon fill=\"white\" points=\"-4,4 -4,-300 649.5,-300 649.5,4 -4,4\" stroke=\"none\"/>\n",
       "<!-- 1561737414664 -->\n",
       "<g class=\"node\" id=\"node1\"><title>1561737414664</title>\n",
       "<polygon fill=\"none\" points=\"11,-249.5 11,-295.5 313,-295.5 313,-249.5 11,-249.5\" stroke=\"black\"/>\n",
       "<text font-family=\"Times New Roman,serif\" font-size=\"14.00\" text-anchor=\"middle\" x=\"93\" y=\"-268.8\">encoder_input: InputLayer</text>\n",
       "<polyline fill=\"none\" points=\"175,-249.5 175,-295.5 \" stroke=\"black\"/>\n",
       "<text font-family=\"Times New Roman,serif\" font-size=\"14.00\" text-anchor=\"middle\" x=\"203\" y=\"-280.3\">input:</text>\n",
       "<polyline fill=\"none\" points=\"175,-272.5 231,-272.5 \" stroke=\"black\"/>\n",
       "<text font-family=\"Times New Roman,serif\" font-size=\"14.00\" text-anchor=\"middle\" x=\"203\" y=\"-257.3\">output:</text>\n",
       "<polyline fill=\"none\" points=\"231,-249.5 231,-295.5 \" stroke=\"black\"/>\n",
       "<text font-family=\"Times New Roman,serif\" font-size=\"14.00\" text-anchor=\"middle\" x=\"272\" y=\"-280.3\">[(?, ?, 238)]</text>\n",
       "<polyline fill=\"none\" points=\"231,-272.5 313,-272.5 \" stroke=\"black\"/>\n",
       "<text font-family=\"Times New Roman,serif\" font-size=\"14.00\" text-anchor=\"middle\" x=\"272\" y=\"-257.3\">[(?, ?, 238)]</text>\n",
       "</g>\n",
       "<!-- 1561707680904 -->\n",
       "<g class=\"node\" id=\"node3\"><title>1561707680904</title>\n",
       "<polygon fill=\"none\" points=\"0,-166.5 0,-212.5 324,-212.5 324,-166.5 0,-166.5\" stroke=\"black\"/>\n",
       "<text font-family=\"Times New Roman,serif\" font-size=\"14.00\" text-anchor=\"middle\" x=\"68\" y=\"-185.8\">encoder: SimpleRNN</text>\n",
       "<polyline fill=\"none\" points=\"136,-166.5 136,-212.5 \" stroke=\"black\"/>\n",
       "<text font-family=\"Times New Roman,serif\" font-size=\"14.00\" text-anchor=\"middle\" x=\"164\" y=\"-197.3\">input:</text>\n",
       "<polyline fill=\"none\" points=\"136,-189.5 192,-189.5 \" stroke=\"black\"/>\n",
       "<text font-family=\"Times New Roman,serif\" font-size=\"14.00\" text-anchor=\"middle\" x=\"164\" y=\"-174.3\">output:</text>\n",
       "<polyline fill=\"none\" points=\"192,-166.5 192,-212.5 \" stroke=\"black\"/>\n",
       "<text font-family=\"Times New Roman,serif\" font-size=\"14.00\" text-anchor=\"middle\" x=\"258\" y=\"-197.3\">(?, ?, 238)</text>\n",
       "<polyline fill=\"none\" points=\"192,-189.5 324,-189.5 \" stroke=\"black\"/>\n",
       "<text font-family=\"Times New Roman,serif\" font-size=\"14.00\" text-anchor=\"middle\" x=\"258\" y=\"-174.3\">[(?, ?, 128), (?, 128)]</text>\n",
       "</g>\n",
       "<!-- 1561737414664&#45;&gt;1561707680904 -->\n",
       "<g class=\"edge\" id=\"edge1\"><title>1561737414664-&gt;1561707680904</title>\n",
       "<path d=\"M162,-249.366C162,-241.152 162,-231.658 162,-222.725\" fill=\"none\" stroke=\"black\"/>\n",
       "<polygon fill=\"black\" points=\"165.5,-222.607 162,-212.607 158.5,-222.607 165.5,-222.607\" stroke=\"black\"/>\n",
       "</g>\n",
       "<!-- 1561742351624 -->\n",
       "<g class=\"node\" id=\"node2\"><title>1561742351624</title>\n",
       "<polygon fill=\"none\" points=\"342.5,-166.5 342.5,-212.5 645.5,-212.5 645.5,-166.5 342.5,-166.5\" stroke=\"black\"/>\n",
       "<text font-family=\"Times New Roman,serif\" font-size=\"14.00\" text-anchor=\"middle\" x=\"425\" y=\"-185.8\">decoder_input: InputLayer</text>\n",
       "<polyline fill=\"none\" points=\"507.5,-166.5 507.5,-212.5 \" stroke=\"black\"/>\n",
       "<text font-family=\"Times New Roman,serif\" font-size=\"14.00\" text-anchor=\"middle\" x=\"535.5\" y=\"-197.3\">input:</text>\n",
       "<polyline fill=\"none\" points=\"507.5,-189.5 563.5,-189.5 \" stroke=\"black\"/>\n",
       "<text font-family=\"Times New Roman,serif\" font-size=\"14.00\" text-anchor=\"middle\" x=\"535.5\" y=\"-174.3\">output:</text>\n",
       "<polyline fill=\"none\" points=\"563.5,-166.5 563.5,-212.5 \" stroke=\"black\"/>\n",
       "<text font-family=\"Times New Roman,serif\" font-size=\"14.00\" text-anchor=\"middle\" x=\"604.5\" y=\"-197.3\">[(?, ?, 216)]</text>\n",
       "<polyline fill=\"none\" points=\"563.5,-189.5 645.5,-189.5 \" stroke=\"black\"/>\n",
       "<text font-family=\"Times New Roman,serif\" font-size=\"14.00\" text-anchor=\"middle\" x=\"604.5\" y=\"-174.3\">[(?, ?, 216)]</text>\n",
       "</g>\n",
       "<!-- 1561742352136 -->\n",
       "<g class=\"node\" id=\"node4\"><title>1561742352136</title>\n",
       "<polygon fill=\"none\" points=\"165.5,-83.5 165.5,-129.5 490.5,-129.5 490.5,-83.5 165.5,-83.5\" stroke=\"black\"/>\n",
       "<text font-family=\"Times New Roman,serif\" font-size=\"14.00\" text-anchor=\"middle\" x=\"234\" y=\"-102.8\">decoder: SimpleRNN</text>\n",
       "<polyline fill=\"none\" points=\"302.5,-83.5 302.5,-129.5 \" stroke=\"black\"/>\n",
       "<text font-family=\"Times New Roman,serif\" font-size=\"14.00\" text-anchor=\"middle\" x=\"330.5\" y=\"-114.3\">input:</text>\n",
       "<polyline fill=\"none\" points=\"302.5,-106.5 358.5,-106.5 \" stroke=\"black\"/>\n",
       "<text font-family=\"Times New Roman,serif\" font-size=\"14.00\" text-anchor=\"middle\" x=\"330.5\" y=\"-91.3\">output:</text>\n",
       "<polyline fill=\"none\" points=\"358.5,-83.5 358.5,-129.5 \" stroke=\"black\"/>\n",
       "<text font-family=\"Times New Roman,serif\" font-size=\"14.00\" text-anchor=\"middle\" x=\"424.5\" y=\"-114.3\">[(?, ?, 216), (?, 128)]</text>\n",
       "<polyline fill=\"none\" points=\"358.5,-106.5 490.5,-106.5 \" stroke=\"black\"/>\n",
       "<text font-family=\"Times New Roman,serif\" font-size=\"14.00\" text-anchor=\"middle\" x=\"424.5\" y=\"-91.3\">[(?, ?, 128), (?, 128)]</text>\n",
       "</g>\n",
       "<!-- 1561742351624&#45;&gt;1561742352136 -->\n",
       "<g class=\"edge\" id=\"edge2\"><title>1561742351624-&gt;1561742352136</title>\n",
       "<path d=\"M448.64,-166.366C428.145,-156.366 403.765,-144.47 382.304,-133.998\" fill=\"none\" stroke=\"black\"/>\n",
       "<polygon fill=\"black\" points=\"383.827,-130.847 373.305,-129.607 380.758,-137.138 383.827,-130.847\" stroke=\"black\"/>\n",
       "</g>\n",
       "<!-- 1561707680904&#45;&gt;1561742352136 -->\n",
       "<g class=\"edge\" id=\"edge3\"><title>1561707680904-&gt;1561742352136</title>\n",
       "<path d=\"M207.36,-166.366C227.855,-156.366 252.235,-144.47 273.696,-133.998\" fill=\"none\" stroke=\"black\"/>\n",
       "<polygon fill=\"black\" points=\"275.242,-137.138 282.695,-129.607 272.173,-130.847 275.242,-137.138\" stroke=\"black\"/>\n",
       "</g>\n",
       "<!-- 1561742175112 -->\n",
       "<g class=\"node\" id=\"node5\"><title>1561742175112</title>\n",
       "<polygon fill=\"none\" points=\"190,-0.5 190,-46.5 466,-46.5 466,-0.5 190,-0.5\" stroke=\"black\"/>\n",
       "<text font-family=\"Times New Roman,serif\" font-size=\"14.00\" text-anchor=\"middle\" x=\"263.5\" y=\"-19.8\">decoder_output: Dense</text>\n",
       "<polyline fill=\"none\" points=\"337,-0.5 337,-46.5 \" stroke=\"black\"/>\n",
       "<text font-family=\"Times New Roman,serif\" font-size=\"14.00\" text-anchor=\"middle\" x=\"365\" y=\"-31.3\">input:</text>\n",
       "<polyline fill=\"none\" points=\"337,-23.5 393,-23.5 \" stroke=\"black\"/>\n",
       "<text font-family=\"Times New Roman,serif\" font-size=\"14.00\" text-anchor=\"middle\" x=\"365\" y=\"-8.3\">output:</text>\n",
       "<polyline fill=\"none\" points=\"393,-0.5 393,-46.5 \" stroke=\"black\"/>\n",
       "<text font-family=\"Times New Roman,serif\" font-size=\"14.00\" text-anchor=\"middle\" x=\"429.5\" y=\"-31.3\">(?, ?, 128)</text>\n",
       "<polyline fill=\"none\" points=\"393,-23.5 466,-23.5 \" stroke=\"black\"/>\n",
       "<text font-family=\"Times New Roman,serif\" font-size=\"14.00\" text-anchor=\"middle\" x=\"429.5\" y=\"-8.3\">(?, ?, 216)</text>\n",
       "</g>\n",
       "<!-- 1561742352136&#45;&gt;1561742175112 -->\n",
       "<g class=\"edge\" id=\"edge4\"><title>1561742352136-&gt;1561742175112</title>\n",
       "<path d=\"M328,-83.3664C328,-75.1516 328,-65.6579 328,-56.7252\" fill=\"none\" stroke=\"black\"/>\n",
       "<polygon fill=\"black\" points=\"331.5,-56.6068 328,-46.6068 324.5,-56.6069 331.5,-56.6068\" stroke=\"black\"/>\n",
       "</g>\n",
       "</g>\n",
       "</svg>"
      ],
      "text/plain": [
       "<IPython.core.display.SVG object>"
      ]
     },
     "execution_count": 25,
     "metadata": {},
     "output_type": "execute_result"
    }
   ],
   "source": [
    "# 모델 확인\n",
    "SVG(model_to_dot(model, show_shapes=True, dpi=65).create(prog='dot', format='svg'))\n",
    "## 이 모델에는 입력으로 항상 인코더 인풋과 디코더 인풋이 함께 들어가야 하기때문에 학습에만 \n",
    "## 사용하며 실제 사용은 불가, 하지만 이미 학습은 진행되었기 때문에 weights는 학습 되었음.\n",
    "## 따라서 학습된 레이어를 사용해 모델 재구성 필요."
   ]
  },
  {
   "cell_type": "code",
   "execution_count": 26,
   "metadata": {},
   "outputs": [],
   "source": [
    "# 인코더 모델 생성\n",
    "encoder_model = Model(enc_inputs, enc_state)"
   ]
  },
  {
   "cell_type": "code",
   "execution_count": 27,
   "metadata": {},
   "outputs": [
    {
     "data": {
      "image/svg+xml": [
       "<svg height=\"125pt\" viewBox=\"0.00 0.00 332.00 138.00\" width=\"300pt\" xmlns=\"http://www.w3.org/2000/svg\" xmlns:xlink=\"http://www.w3.org/1999/xlink\">\n",
       "<g class=\"graph\" id=\"graph0\" transform=\"scale(0.902778 0.902778) rotate(0) translate(4 134)\">\n",
       "<title>G</title>\n",
       "<polygon fill=\"white\" points=\"-4,4 -4,-134 328,-134 328,4 -4,4\" stroke=\"none\"/>\n",
       "<!-- 1561737414664 -->\n",
       "<g class=\"node\" id=\"node1\"><title>1561737414664</title>\n",
       "<polygon fill=\"none\" points=\"11,-83.5 11,-129.5 313,-129.5 313,-83.5 11,-83.5\" stroke=\"black\"/>\n",
       "<text font-family=\"Times New Roman,serif\" font-size=\"14.00\" text-anchor=\"middle\" x=\"93\" y=\"-102.8\">encoder_input: InputLayer</text>\n",
       "<polyline fill=\"none\" points=\"175,-83.5 175,-129.5 \" stroke=\"black\"/>\n",
       "<text font-family=\"Times New Roman,serif\" font-size=\"14.00\" text-anchor=\"middle\" x=\"203\" y=\"-114.3\">input:</text>\n",
       "<polyline fill=\"none\" points=\"175,-106.5 231,-106.5 \" stroke=\"black\"/>\n",
       "<text font-family=\"Times New Roman,serif\" font-size=\"14.00\" text-anchor=\"middle\" x=\"203\" y=\"-91.3\">output:</text>\n",
       "<polyline fill=\"none\" points=\"231,-83.5 231,-129.5 \" stroke=\"black\"/>\n",
       "<text font-family=\"Times New Roman,serif\" font-size=\"14.00\" text-anchor=\"middle\" x=\"272\" y=\"-114.3\">[(?, ?, 238)]</text>\n",
       "<polyline fill=\"none\" points=\"231,-106.5 313,-106.5 \" stroke=\"black\"/>\n",
       "<text font-family=\"Times New Roman,serif\" font-size=\"14.00\" text-anchor=\"middle\" x=\"272\" y=\"-91.3\">[(?, ?, 238)]</text>\n",
       "</g>\n",
       "<!-- 1561707680904 -->\n",
       "<g class=\"node\" id=\"node2\"><title>1561707680904</title>\n",
       "<polygon fill=\"none\" points=\"0,-0.5 0,-46.5 324,-46.5 324,-0.5 0,-0.5\" stroke=\"black\"/>\n",
       "<text font-family=\"Times New Roman,serif\" font-size=\"14.00\" text-anchor=\"middle\" x=\"68\" y=\"-19.8\">encoder: SimpleRNN</text>\n",
       "<polyline fill=\"none\" points=\"136,-0.5 136,-46.5 \" stroke=\"black\"/>\n",
       "<text font-family=\"Times New Roman,serif\" font-size=\"14.00\" text-anchor=\"middle\" x=\"164\" y=\"-31.3\">input:</text>\n",
       "<polyline fill=\"none\" points=\"136,-23.5 192,-23.5 \" stroke=\"black\"/>\n",
       "<text font-family=\"Times New Roman,serif\" font-size=\"14.00\" text-anchor=\"middle\" x=\"164\" y=\"-8.3\">output:</text>\n",
       "<polyline fill=\"none\" points=\"192,-0.5 192,-46.5 \" stroke=\"black\"/>\n",
       "<text font-family=\"Times New Roman,serif\" font-size=\"14.00\" text-anchor=\"middle\" x=\"258\" y=\"-31.3\">(?, ?, 238)</text>\n",
       "<polyline fill=\"none\" points=\"192,-23.5 324,-23.5 \" stroke=\"black\"/>\n",
       "<text font-family=\"Times New Roman,serif\" font-size=\"14.00\" text-anchor=\"middle\" x=\"258\" y=\"-8.3\">[(?, ?, 128), (?, 128)]</text>\n",
       "</g>\n",
       "<!-- 1561737414664&#45;&gt;1561707680904 -->\n",
       "<g class=\"edge\" id=\"edge1\"><title>1561737414664-&gt;1561707680904</title>\n",
       "<path d=\"M162,-83.3664C162,-75.1516 162,-65.6579 162,-56.7252\" fill=\"none\" stroke=\"black\"/>\n",
       "<polygon fill=\"black\" points=\"165.5,-56.6068 162,-46.6068 158.5,-56.6069 165.5,-56.6068\" stroke=\"black\"/>\n",
       "</g>\n",
       "</g>\n",
       "</svg>"
      ],
      "text/plain": [
       "<IPython.core.display.SVG object>"
      ]
     },
     "execution_count": 27,
     "metadata": {},
     "output_type": "execute_result"
    }
   ],
   "source": [
    "# 인코더 모델 시각화\n",
    "SVG(model_to_dot(encoder_model, show_shapes=True, dpi=65).create(prog='dot', format='svg'))"
   ]
  },
  {
   "cell_type": "code",
   "execution_count": 28,
   "metadata": {},
   "outputs": [],
   "source": [
    "# 디코더 모델 생성\n",
    "decoder_state_input = Input(shape=(num_units,), name='decoder_state_input')\n",
    "dec_outputs, dec_state = dec(dec_inputs, initial_state=decoder_state_input)\n",
    "dec_outputs = dec_dense(dec_outputs)\n",
    "\n",
    "decoder_model = Model(\n",
    "    [dec_inputs] + [decoder_state_input],\n",
    "    [dec_outputs] + [dec_state])"
   ]
  },
  {
   "cell_type": "code",
   "execution_count": 29,
   "metadata": {},
   "outputs": [
    {
     "data": {
      "image/svg+xml": [
       "<svg height=\"200pt\" viewBox=\"0.00 0.00 651.50 221.00\" width=\"588pt\" xmlns=\"http://www.w3.org/2000/svg\" xmlns:xlink=\"http://www.w3.org/1999/xlink\">\n",
       "<g class=\"graph\" id=\"graph0\" transform=\"scale(0.902778 0.902778) rotate(0) translate(4 217)\">\n",
       "<title>G</title>\n",
       "<polygon fill=\"white\" points=\"-4,4 -4,-217 647.5,-217 647.5,4 -4,4\" stroke=\"none\"/>\n",
       "<!-- 1561742351624 -->\n",
       "<g class=\"node\" id=\"node1\"><title>1561742351624</title>\n",
       "<polygon fill=\"none\" points=\"0,-166.5 0,-212.5 303,-212.5 303,-166.5 0,-166.5\" stroke=\"black\"/>\n",
       "<text font-family=\"Times New Roman,serif\" font-size=\"14.00\" text-anchor=\"middle\" x=\"82.5\" y=\"-185.8\">decoder_input: InputLayer</text>\n",
       "<polyline fill=\"none\" points=\"165,-166.5 165,-212.5 \" stroke=\"black\"/>\n",
       "<text font-family=\"Times New Roman,serif\" font-size=\"14.00\" text-anchor=\"middle\" x=\"193\" y=\"-197.3\">input:</text>\n",
       "<polyline fill=\"none\" points=\"165,-189.5 221,-189.5 \" stroke=\"black\"/>\n",
       "<text font-family=\"Times New Roman,serif\" font-size=\"14.00\" text-anchor=\"middle\" x=\"193\" y=\"-174.3\">output:</text>\n",
       "<polyline fill=\"none\" points=\"221,-166.5 221,-212.5 \" stroke=\"black\"/>\n",
       "<text font-family=\"Times New Roman,serif\" font-size=\"14.00\" text-anchor=\"middle\" x=\"262\" y=\"-197.3\">[(?, ?, 216)]</text>\n",
       "<polyline fill=\"none\" points=\"221,-189.5 303,-189.5 \" stroke=\"black\"/>\n",
       "<text font-family=\"Times New Roman,serif\" font-size=\"14.00\" text-anchor=\"middle\" x=\"262\" y=\"-174.3\">[(?, ?, 216)]</text>\n",
       "</g>\n",
       "<!-- 1561742352136 -->\n",
       "<g class=\"node\" id=\"node3\"><title>1561742352136</title>\n",
       "<polygon fill=\"none\" points=\"154,-83.5 154,-129.5 479,-129.5 479,-83.5 154,-83.5\" stroke=\"black\"/>\n",
       "<text font-family=\"Times New Roman,serif\" font-size=\"14.00\" text-anchor=\"middle\" x=\"222.5\" y=\"-102.8\">decoder: SimpleRNN</text>\n",
       "<polyline fill=\"none\" points=\"291,-83.5 291,-129.5 \" stroke=\"black\"/>\n",
       "<text font-family=\"Times New Roman,serif\" font-size=\"14.00\" text-anchor=\"middle\" x=\"319\" y=\"-114.3\">input:</text>\n",
       "<polyline fill=\"none\" points=\"291,-106.5 347,-106.5 \" stroke=\"black\"/>\n",
       "<text font-family=\"Times New Roman,serif\" font-size=\"14.00\" text-anchor=\"middle\" x=\"319\" y=\"-91.3\">output:</text>\n",
       "<polyline fill=\"none\" points=\"347,-83.5 347,-129.5 \" stroke=\"black\"/>\n",
       "<text font-family=\"Times New Roman,serif\" font-size=\"14.00\" text-anchor=\"middle\" x=\"413\" y=\"-114.3\">[(?, ?, 216), (?, 128)]</text>\n",
       "<polyline fill=\"none\" points=\"347,-106.5 479,-106.5 \" stroke=\"black\"/>\n",
       "<text font-family=\"Times New Roman,serif\" font-size=\"14.00\" text-anchor=\"middle\" x=\"413\" y=\"-91.3\">[(?, ?, 128), (?, 128)]</text>\n",
       "</g>\n",
       "<!-- 1561742351624&#45;&gt;1561742352136 -->\n",
       "<g class=\"edge\" id=\"edge1\"><title>1561742351624-&gt;1561742352136</title>\n",
       "<path d=\"M196.587,-166.366C216.868,-156.41 240.975,-144.576 262.237,-134.138\" fill=\"none\" stroke=\"black\"/>\n",
       "<polygon fill=\"black\" points=\"264.033,-137.155 271.468,-129.607 260.948,-130.872 264.033,-137.155\" stroke=\"black\"/>\n",
       "</g>\n",
       "<!-- 1561748582216 -->\n",
       "<g class=\"node\" id=\"node2\"><title>1561748582216</title>\n",
       "<polygon fill=\"none\" points=\"321.5,-166.5 321.5,-212.5 643.5,-212.5 643.5,-166.5 321.5,-166.5\" stroke=\"black\"/>\n",
       "<text font-family=\"Times New Roman,serif\" font-size=\"14.00\" text-anchor=\"middle\" x=\"420.5\" y=\"-185.8\">decoder_state_input: InputLayer</text>\n",
       "<polyline fill=\"none\" points=\"519.5,-166.5 519.5,-212.5 \" stroke=\"black\"/>\n",
       "<text font-family=\"Times New Roman,serif\" font-size=\"14.00\" text-anchor=\"middle\" x=\"547.5\" y=\"-197.3\">input:</text>\n",
       "<polyline fill=\"none\" points=\"519.5,-189.5 575.5,-189.5 \" stroke=\"black\"/>\n",
       "<text font-family=\"Times New Roman,serif\" font-size=\"14.00\" text-anchor=\"middle\" x=\"547.5\" y=\"-174.3\">output:</text>\n",
       "<polyline fill=\"none\" points=\"575.5,-166.5 575.5,-212.5 \" stroke=\"black\"/>\n",
       "<text font-family=\"Times New Roman,serif\" font-size=\"14.00\" text-anchor=\"middle\" x=\"609.5\" y=\"-197.3\">[(?, 128)]</text>\n",
       "<polyline fill=\"none\" points=\"575.5,-189.5 643.5,-189.5 \" stroke=\"black\"/>\n",
       "<text font-family=\"Times New Roman,serif\" font-size=\"14.00\" text-anchor=\"middle\" x=\"609.5\" y=\"-174.3\">[(?, 128)]</text>\n",
       "</g>\n",
       "<!-- 1561748582216&#45;&gt;1561742352136 -->\n",
       "<g class=\"edge\" id=\"edge2\"><title>1561748582216-&gt;1561742352136</title>\n",
       "<path d=\"M437.14,-166.366C416.645,-156.366 392.265,-144.47 370.804,-133.998\" fill=\"none\" stroke=\"black\"/>\n",
       "<polygon fill=\"black\" points=\"372.327,-130.847 361.805,-129.607 369.258,-137.138 372.327,-130.847\" stroke=\"black\"/>\n",
       "</g>\n",
       "<!-- 1561742175112 -->\n",
       "<g class=\"node\" id=\"node4\"><title>1561742175112</title>\n",
       "<polygon fill=\"none\" points=\"178.5,-0.5 178.5,-46.5 454.5,-46.5 454.5,-0.5 178.5,-0.5\" stroke=\"black\"/>\n",
       "<text font-family=\"Times New Roman,serif\" font-size=\"14.00\" text-anchor=\"middle\" x=\"252\" y=\"-19.8\">decoder_output: Dense</text>\n",
       "<polyline fill=\"none\" points=\"325.5,-0.5 325.5,-46.5 \" stroke=\"black\"/>\n",
       "<text font-family=\"Times New Roman,serif\" font-size=\"14.00\" text-anchor=\"middle\" x=\"353.5\" y=\"-31.3\">input:</text>\n",
       "<polyline fill=\"none\" points=\"325.5,-23.5 381.5,-23.5 \" stroke=\"black\"/>\n",
       "<text font-family=\"Times New Roman,serif\" font-size=\"14.00\" text-anchor=\"middle\" x=\"353.5\" y=\"-8.3\">output:</text>\n",
       "<polyline fill=\"none\" points=\"381.5,-0.5 381.5,-46.5 \" stroke=\"black\"/>\n",
       "<text font-family=\"Times New Roman,serif\" font-size=\"14.00\" text-anchor=\"middle\" x=\"418\" y=\"-31.3\">(?, ?, 128)</text>\n",
       "<polyline fill=\"none\" points=\"381.5,-23.5 454.5,-23.5 \" stroke=\"black\"/>\n",
       "<text font-family=\"Times New Roman,serif\" font-size=\"14.00\" text-anchor=\"middle\" x=\"418\" y=\"-8.3\">(?, ?, 216)</text>\n",
       "</g>\n",
       "<!-- 1561742352136&#45;&gt;1561742175112 -->\n",
       "<g class=\"edge\" id=\"edge3\"><title>1561742352136-&gt;1561742175112</title>\n",
       "<path d=\"M316.5,-83.3664C316.5,-75.1516 316.5,-65.6579 316.5,-56.7252\" fill=\"none\" stroke=\"black\"/>\n",
       "<polygon fill=\"black\" points=\"320,-56.6068 316.5,-46.6068 313,-56.6069 320,-56.6068\" stroke=\"black\"/>\n",
       "</g>\n",
       "</g>\n",
       "</svg>"
      ],
      "text/plain": [
       "<IPython.core.display.SVG object>"
      ]
     },
     "execution_count": 29,
     "metadata": {},
     "output_type": "execute_result"
    }
   ],
   "source": [
    "# 디코더 모델 시각화\n",
    "SVG(model_to_dot(decoder_model, show_shapes=True, dpi=65).create(prog='dot', format='svg'))"
   ]
  },
  {
   "cell_type": "code",
   "execution_count": 30,
   "metadata": {},
   "outputs": [],
   "source": [
    "# 모델로 한글을 영어로 번역하는 함수 작성\n",
    "def decode_sequence(input_seq):\n",
    "    state = encoder_model.predict(input_seq)\n",
    "    \n",
    "    target_seq = np.zeros((1, 1, eng_num_token))\n",
    "    target_seq[0, 0, eng_words_set.index('<start>')] = 1\n",
    "    \n",
    "    stop_condition = False\n",
    "    decoded_sentence = []\n",
    "    while not stop_condition:\n",
    "        output_token, state = decoder_model.predict([target_seq]+[state])\n",
    "        \n",
    "        sampled_token_index = np.argmax(output_token[0, -1, :])\n",
    "        sampled_word = eng_words_set[sampled_token_index]\n",
    "        if sampled_token_index != 0:\n",
    "            decoded_sentence.append(sampled_word)\n",
    "        \n",
    "        if sampled_word == '<eos>':\n",
    "            stop_condition = True\n",
    "        \n",
    "        target_seq = np.zeros((1, 1, eng_num_token))\n",
    "        target_seq[0, 0, sampled_token_index] = 1\n",
    "        \n",
    "    return decoded_sentence[:-1]"
   ]
  },
  {
   "cell_type": "code",
   "execution_count": 31,
   "metadata": {},
   "outputs": [],
   "source": [
    "# 이름만 translate\n",
    "def translate(input_seq):\n",
    "    decode_sequences = decode_sequence(input_seq)\n",
    "    return decode_sequences"
   ]
  },
  {
   "cell_type": "code",
   "execution_count": 32,
   "metadata": {},
   "outputs": [
    {
     "name": "stdout",
     "output_type": "stream",
     "text": [
      "2\n",
      "['12시', '땡!']\n"
     ]
    }
   ],
   "source": [
    "# 테스트용 인코더 입력 데이터 생성 및 확인\n",
    "enc_sent = [kor_words_set[np.argmax(word_vec)] \n",
    "            for word_vec in encoder_train[0] if np.argmax(word_vec) != 0]\n",
    "print(len(enc_sent))\n",
    "print(enc_sent)"
   ]
  },
  {
   "cell_type": "code",
   "execution_count": 33,
   "metadata": {},
   "outputs": [
    {
     "name": "stdout",
     "output_type": "stream",
     "text": [
      "3\n",
      "['하루가', '또', '가네요.']\n"
     ]
    }
   ],
   "source": [
    "# 번역 및 결과 확인\n",
    "sentence = translate(encoder_train[0].reshape(1, kor_max_len, -1))\n",
    "print(len(sentence))\n",
    "print(sentence)"
   ]
  },
  {
   "cell_type": "code",
   "execution_count": 34,
   "metadata": {},
   "outputs": [
    {
     "name": "stdout",
     "output_type": "stream",
     "text": [
      "12시 땡!\n",
      "하루가 또 가네요.\n"
     ]
    }
   ],
   "source": [
    "# 한글 -> 영어 결과 비교\n",
    "print(' '.join(enc_sent))\n",
    "print(' '.join(sentence))"
   ]
  },
  {
   "cell_type": "code",
   "execution_count": 35,
   "metadata": {},
   "outputs": [
    {
     "name": "stdout",
     "output_type": "stream",
     "text": [
      "238\n",
      "['', '12시', '1지망', '3박4일', 'PPL', 'SD카드', 'SNS', 'SNS보면', '가기로', '가끔', '가끔은', '가난한', '가려고', '가만', '가상화폐', '가서', '가스불', '가스비', '가야지', '가자고', '가장', '가족', '가족관계', '가족끼리', '가족들', '가족들이랑', '가족여행', '가족이', '가족이랑', '가족한테', '가지?', '가출할까?', '가출해도', '간만에', '간식', '간장치킨', '간접흡연', '갈', '갈거야', '갈까', '감', '감기', '감기가', '감기약이', '감기인거', '감미로운', '감정이', '감정컨트롤을', '감정컨트롤이', '감히', '갑자기', '갔어', '강렬한', '강아지', '강원도', '같아', '같애', '같은', '같이', '개강룩', '개강옷', '개강이다', '개강이라니', '개같은', '개같이', '개기름', '개념도', '개념이', '개당황', '개당황했잖아', '개인적인', '개졸려', '개좋아', '개학하니까', '걔', '걔는', '걔랑', '거', '거지', '건', '걸리겠어', '걸린', '것', '게임하자고', '고고', '고민', '궁금해', '그런거니?', '기운이', '꼈어', '나', '나갔어', '나를', '나만', '나쁜', '나온거', '나왔다.', '남겨야', '너무', '놀러가고', '놀러갈', '놓고', '누구야?', '누굴', '눈물', '다', '닮아서', '당황했어', '데가', '돼', '됐으면', '되나?', '되버렸어.', '된', '들', '들더라', '땀난다', '땡!', '떨리니까', '떨어졌어', '막', '많이', '말까', '말까?', '말랭이', '망가졌어', '망함', '맞팔', '매일', '먹고', '먹어야지', '먹었는데', '먹을까', '목소리', '못하겠어', '무시하는', '물어', '물어봐서', '뭐', '뭐하는지', '뭘까?', '반', '보게됨', '보고', '볼까', '봐서', '불편한', '붙잡고', '비싼데', '빼고', '사이가', '살까?', '살찐', '상황', '생각이', '생활', '서먹해', '서먹해졌어', '설움', '쇼핑', '수', '수영장', '스트레스', '시간낭비인', '시간낭비인데', '시켜', '시켜야지', '싫다', '싫어', '심하네', '싶다', '싶다.', '싶어', '싶은데', '쓰레기통처럼', '아는데', '아님', '안돼', '안돼겠지', '안하지ㅠㅠ', '알려', '애가', '어디', '어디로', '업무까지', '없어', '엉망진창이야', '여행', '여행간다.', '역시', '예쁘게', '오려나', '옴', '왜', '일도', '일해', '입어', '입어볼까', '있는', '있어', '있어?', '있어도', '있으면', '있을까', '자꾸', '자의', '장난', '정도', '좋겠다', '좋다', '좋더라', '좋아', '중', '줘', '쫄딱', '첫인상', '추천', '취미', '친구가', '켜고', '켜놓고', '키우고', '키울', '키울까', '풀었어', '피씨방', '하는', '하는데', '학교', '할', '해도', '해볼까?', '했어', '행복해보여', '혼자인게', '확실한', '휴식', '힘든데']\n"
     ]
    }
   ],
   "source": [
    "print(len(kor_words_set))\n",
    "print(kor_words_set)"
   ]
  },
  {
   "cell_type": "code",
   "execution_count": 38,
   "metadata": {},
   "outputs": [
    {
     "name": "stdout",
     "output_type": "stream",
     "text": [
      "[  0.   0.   0.   0.   0.   0.  90. 102.]\n"
     ]
    }
   ],
   "source": [
    "kor_sent = '나 누구야?'\n",
    "enc_kor_sent = kor_encoding(kor_sent)\n",
    "print(enc_kor_sent)"
   ]
  },
  {
   "cell_type": "code",
   "execution_count": 39,
   "metadata": {},
   "outputs": [
    {
     "name": "stdout",
     "output_type": "stream",
     "text": [
      "11\n",
      "만들어 준 사람을 부모님, 저랑 이야기해 주는 사람을 친구로 생각하고 있어요\n"
     ]
    }
   ],
   "source": [
    "sentence = translate(to_categorical(enc_kor_sent, num_classes=len(kor_words_set)).reshape(1, kor_max_len, -1))\n",
    "print(len(sentence))\n",
    "print(' '.join(sentence))"
   ]
  },
  {
   "cell_type": "code",
   "execution_count": null,
   "metadata": {},
   "outputs": [],
   "source": []
  }
 ],
 "metadata": {
  "kernelspec": {
   "display_name": "Python 3",
   "language": "python",
   "name": "python3"
  },
  "language_info": {
   "codemirror_mode": {
    "name": "ipython",
    "version": 3
   },
   "file_extension": ".py",
   "mimetype": "text/x-python",
   "name": "python",
   "nbconvert_exporter": "python",
   "pygments_lexer": "ipython3",
   "version": "3.7.7"
  }
 },
 "nbformat": 4,
 "nbformat_minor": 4
}
