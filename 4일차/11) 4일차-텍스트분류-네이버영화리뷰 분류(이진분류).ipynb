{
 "cells": [
  {
   "cell_type": "markdown",
   "metadata": {},
   "source": [
    "## 텍스트 분류 - 네이버 영화 리뷰 분류 (긍정, 부정; 이진분류)"
   ]
  },
  {
   "cell_type": "code",
   "execution_count": 1,
   "metadata": {},
   "outputs": [],
   "source": [
    "# 사용 모듈 import 할게요.\n",
    "import numpy as np\n",
    "import matplotlib.pyplot as plt\n",
    "\n",
    "# 전처리를 위한 konlpy의 Okt import 할게요.\n",
    "from konlpy.tag import Okt\n",
    "\n",
    "# 임베딩을 위한 gensim import 할게요.\n",
    "import gensim\n",
    "\n",
    "# tensorflow.kears 쪽 모듈 import 할게요.\n",
    "from tensorflow import keras\n",
    "from tensorflow.keras.models import Sequential\n",
    "from tensorflow.keras.layers import Dense, Dropout, LSTM, Embedding, Bidirectional, InputLayer\n",
    "from tensorflow.keras.utils import to_categorical\n",
    "from tensorflow.keras.utils import model_to_dot\n",
    "from IPython.display import SVG"
   ]
  },
  {
   "cell_type": "code",
   "execution_count": 2,
   "metadata": {},
   "outputs": [
    {
     "name": "stdout",
     "output_type": "stream",
     "text": [
      "150001\n",
      "75000\n"
     ]
    }
   ],
   "source": [
    "# 네이버 영화 리뷰 데이터 읽어올게요.\n",
    "data_path = '../data/nsmc-master/'\n",
    "lines = open(data_path+'ratings_train.txt', 'r', encoding='utf-8').readlines()\n",
    "\n",
    "# 데이터 개수 확인할게요.\n",
    "print(len(lines))\n",
    "\n",
    "## 너무 오래 걸려서 데이터수 반으로 줄일게요.\n",
    "## 데이터 열어보시면, 첫 번째 줄은 \n",
    "## 데이터의 레이블이기 때문에 slicing으로 넘어갈게요.\n",
    "lines = lines[1 : int(np.ceil(len(lines)*0.5))] \n",
    "print(len(lines))"
   ]
  },
  {
   "cell_type": "code",
   "execution_count": 3,
   "metadata": {},
   "outputs": [],
   "source": [
    "# 학습 7, 평가 3 으로 데이터 나눌게요.\n",
    "train_dict = {}\n",
    "test_dict = {}\n",
    "for idx, line in enumerate(lines):\n",
    "    # 네이버 영화 리뷰 데이터는 ',' 대신 '\\t'(tap)으로 \n",
    "    # 나눠져 있어서, '\\t'로 나눠 줄게요.\n",
    "    _id, sentence, label = line.strip().split('\\t')\n",
    "    \n",
    "    # 이 데이터는 긍정, 부정이 적절히 섞여있어서\n",
    "    # 그냥 길이에 0.7 곱해서 앞쪽 70%를 학습에\n",
    "    # 뒤쪽 30%를 테스트에 사용할게요.\n",
    "    if idx < int(len(lines)*0.7):\n",
    "        train_dict[sentence] = label\n",
    "    else:\n",
    "        test_dict[sentence] = label"
   ]
  },
  {
   "cell_type": "code",
   "execution_count": 4,
   "metadata": {},
   "outputs": [],
   "source": [
    "# 제거할 품사 설정해 줄게요.\n",
    "stop_pos = ['Punctuation', 'Hashtag', 'Foreign', 'URL', 'Email', 'Number', 'ScreenName', 'Alpha']"
   ]
  },
  {
   "cell_type": "code",
   "execution_count": 5,
   "metadata": {},
   "outputs": [],
   "source": [
    "# 조금 오래걸려요.\n",
    "\n",
    "# 학습 문장으로 words_set 생성, 업데이트하면서\n",
    "# 학습 문장의 최대 길이 설정할게요.\n",
    "okt = Okt()\n",
    "words_set = set()\n",
    "max_len_train = 0\n",
    "max_len_train_idx = 0\n",
    "\n",
    "# 먼저 train에서 데이터 받아올게요.\n",
    "for idx, train_sentence in enumerate(train_dict.keys()):\n",
    "    sentence = train_sentence.strip()\n",
    "    \n",
    "    # 분류라서 문장이 사람에게 익숙하지 않아도 되니까,\n",
    "    # normalize랑 stemming 진행해 줄게요.\n",
    "    words = okt.pos(sentence, norm=True, stem=True)\n",
    "    \n",
    "    # 토크나이즈된 문장에서\n",
    "    # 제거할 품사에 해당하는 단어지우고 사용할게요.\n",
    "    words = [word for word, pos in words if pos not in stop_pos ]\n",
    "\n",
    "    # 학습 문장의 최대길이 찾아 줄게요.\n",
    "    if len(words) > max_len_train:\n",
    "        max_len_train = len(words)\n",
    "        max_len_train_idx = idx\n",
    "    \n",
    "    # words_set 업데이트 할게요.\n",
    "    words_set.update(words)"
   ]
  },
  {
   "cell_type": "code",
   "execution_count": 6,
   "metadata": {},
   "outputs": [],
   "source": [
    "# 조금 오래걸려요.\n",
    "\n",
    "# 테스트 문장으로도 words_set 업데이트하면서\n",
    "# 테스트 문장의 최대 길이 설정할게요.\n",
    "max_len_test = 0\n",
    "max_len_test_idx = 0\n",
    "\n",
    "# test에서 데이터 받아올게요.\n",
    "for idx, test_sentence in enumerate(test_dict.keys()):\n",
    "    sentence = test_sentence.strip()\n",
    "    \n",
    "    # 분류라서 문장이 사람에게 익숙하지 않아도 되니까,\n",
    "    # normalize랑 stemming 진행해 줄게요.\n",
    "    words = okt.pos(sentence, norm=True, stem=True)\n",
    "    \n",
    "    # 토크나이즈된 문장에서\n",
    "    # 제거할 품사에 해당하는 단어지우고 사용할게요.\n",
    "    words = [word for word, pos in words if pos not in stop_pos ]\n",
    "\n",
    "    # 테스트 문장의 최대길이 찾아 줄게요.\n",
    "    if len(words) > max_len_test:\n",
    "        max_len_test = len(words)\n",
    "        max_len_test_idx = idx\n",
    "    \n",
    "    # words_set 업데이트 할게요.\n",
    "    words_set.update(words)"
   ]
  },
  {
   "cell_type": "code",
   "execution_count": 7,
   "metadata": {},
   "outputs": [
    {
     "name": "stdout",
     "output_type": "stream",
     "text": [
      "76\n",
      "33164\n",
      "11147\n",
      "사람들평점왜그러냐.이건진짜대박이다.다들 순간적인재미만느끼려고영화를보나.인생에 좀철학을생각해라.딱봐도대충사는생각없는 인간들이겉으로연출만봐서난해하다고하는 놈들그메세지가뭘표현하려고했는지성찰해라.요즘화려한그래픽이랑주연만하는그런영화들이랑 급이다르다.제대로봐라 \n",
      "\n",
      "완전재밋게봅니당잉여공주몰랏을땐그려러니햇는데송재림때문에봣엇는데캐릭터들도좋앗구안봣으면내가후회햇을만한작품??이작품이나왓을때내가왜안봣는지모르겟다취업준비생역할의마음을잘헤아려서이시대의취준생을잘표현한것같다어쨋든송재림나와서완전조앗음♥♥♥다음에도이런작품이나왓으면!!!\n"
     ]
    }
   ],
   "source": [
    "# 전체 문장에서 최대길이 찾아 줄게요.\n",
    "max_len = max(max_len_train, max_len_test)\n",
    "print(max_len)\n",
    "\n",
    "# 학슴 및 테스트 데이터에서\n",
    "# 각각의 최대길이 문장 확인해 볼게요.\n",
    "print(max_len_train_idx)\n",
    "print(max_len_test_idx)\n",
    "print(list(train_dict.keys())[max_len_train_idx], '\\n')\n",
    "print(list(test_dict.keys())[max_len_test_idx])"
   ]
  },
  {
   "cell_type": "code",
   "execution_count": 8,
   "metadata": {},
   "outputs": [
    {
     "name": "stdout",
     "output_type": "stream",
     "text": [
      "['완전', '재밌다', '보다', '잉여', '공주', '몰다', '랏', '을', '땐', '그리다', '햇', '늘다', '송재림', '때문', '에', '봣', '엇', '늘다', '캐릭터', '들', '도', '좋다', '구안', '봣으', '면', '내', '가후', '회햇', '을', '만', '한', '작품', '??', '이', '작품', '이나', '왓', '을', '때', '내', '가왜', '안봣', '늘다', '모르다', '취업', '준비', '생', '역할', '의', '마음', '을', '자다', '헤아리다', '이', '시대', '의', '취준생', '을', '자다', '표현', '한', '것', '같다', '쨋', '든', '송재림', '나오다', '완전', '조', '앗다', '♥♥♥', '다음', '에도', '이런', '작품', '이나', '왓으', '면', '!!!']\n",
      "['완전', '재밌다', '보다', '잉여', '공주', '몰다', '랏', '을', '땐', '그리다', '햇', '늘다', '송재림', '때문', '에', '봣', '엇', '늘다', '캐릭터', '들', '도', '좋다', '구안', '봣으', '면', '내', '가후', '회햇', '을', '만', '한', '작품', '이', '작품', '이나', '왓', '을', '때', '내', '가왜', '안봣', '늘다', '모르다', '취업', '준비', '생', '역할', '의', '마음', '을', '자다', '헤아리다', '이', '시대', '의', '취준생', '을', '자다', '표현', '한', '것', '같다', '쨋', '든', '송재림', '나오다', '완전', '조', '앗다', '다음', '에도', '이런', '작품', '이나', '왓으', '면']\n"
     ]
    }
   ],
   "source": [
    "# 테스트 데이터의 최대길이 문장,\n",
    "# 토크나이즈 어떻게 되는지 확인해볼게요.\n",
    "text = '완전재밋게봅니당잉여공주몰랏을땐그려러니햇는데송재림때문에봣엇는데캐릭터들도좋앗구안봣으면내가후회햇을만한작품??이작품이나왓을때내가왜안봣는지모르겟다취업준비생역할의마음을잘헤아려서이시대의취준생을잘표현한것같다어쨋든송재림나와서완전조앗음♥♥♥다음에도이런작품이나왓으면!!!'\n",
    "words = okt.pos(text, norm=True, stem=True)\n",
    "print([word for word, _ in words])\n",
    "print([word for word, pos in words if pos not in stop_pos])"
   ]
  },
  {
   "cell_type": "code",
   "execution_count": 9,
   "metadata": {},
   "outputs": [
    {
     "name": "stdout",
     "output_type": "stream",
     "text": [
      "31080\n",
      "['', 'ㄱ', 'ㄱㄱ', 'ㄱㄱㄱ', 'ㄱㄴㄴㄴ', 'ㄱㄴㄷ', 'ㄱㅅ', 'ㄱㅆㄹ', 'ㄱㅇㅅ', 'ㄱㅈㄱ']\n",
      "['힙', '힙자', '힙조', '힙팝', '힙합', '힙힙', '힛', '힛걸', '힝', '힝힝']\n"
     ]
    }
   ],
   "source": [
    "# words_set 길이랑 데이터 확인할게요.\n",
    "words_set = list(sorted(words_set))\n",
    "\n",
    "# zero-padding을 위해서 0번 자리에 '' 공백 하나 넣어줄게요.\n",
    "words_set.insert(0, '')\n",
    "\n",
    "print(len(words_set))\n",
    "print(words_set[:10])\n",
    "print(words_set[-10:])"
   ]
  },
  {
   "cell_type": "code",
   "execution_count": 10,
   "metadata": {},
   "outputs": [],
   "source": [
    "# 모델을 위한 형태로 \n",
    "# 문장을 변경하는 함수 작성할게요.\n",
    "\n",
    "def make_shape4model(sentence_label_dict):\n",
    "    # 단어 임베딩을 위해서 word2vec pre-trained 모델 사용할게요.\n",
    "    # gensim으로 모델 불러올게요.\n",
    "    w2v = gensim.models.Word2Vec.load('../data/ko.bin')\n",
    "    # 모델의 입력으로 사용할 데이터\n",
    "    # 저장하는 temp_x 생성할게요.\n",
    "    temp_x = []\n",
    "    \n",
    "    # 모델의 출력으로 사용할 데이터 \n",
    "    # 저장하는 temp_y 생성할게요.\n",
    "    temp_y = []\n",
    "\n",
    "    # 입력 받은 문장 가져올게요.\n",
    "    for sentence in sentence_label_dict.keys():\n",
    "        \n",
    "        # 문장에 다시 normalization이랑 stemming 진행하면서 \n",
    "        # 단어만 가져올게요.\n",
    "        words = okt.pos(sentence, norm=True, stem=True)\n",
    "        words = [word for word, _ in words]\n",
    "        \n",
    "        # 전처리 진행 후 남는 단어가 없으면\n",
    "        # 넘어갈게요.\n",
    "        if not words:\n",
    "            continue\n",
    "        \n",
    "        # 단어 임베딩은 word2vec pre-trained 모델로 진행할게요.\n",
    "        # try-except문으로 pre-trained 모델에 학습 안된 단어는\n",
    "        # 넘어가도록 해서 진행할게요.\n",
    "        sent = []\n",
    "        for word in words:\n",
    "            try: \n",
    "                sent.append(w2v.wv[word])\n",
    "            except KeyError:\n",
    "                continue\n",
    "        \n",
    "        # 최대 문장의 길이만큼 \n",
    "        # 문장의 앞쪽으로 zero-padding 진행할게요.\n",
    "        padding_size = max_len-len(sent)\n",
    "        for i in range(padding_size):\n",
    "            sent.insert(0, np.zeros(200))\n",
    "        \n",
    "        # zero-padding까지 진행된 문장을\n",
    "        # temp_x에 저장할게요.\n",
    "        temp_x.append(sent)\n",
    "        \n",
    "        # Dictionary에 key로 sentence 집어넣으면\n",
    "        # 나오는 레이블 그대로 temp_y에 저장할게요.\n",
    "        temp_y.append(sentence_label_dict[sentence])\n",
    "        \n",
    "    # temp_x는 numpy.ndarray로 바꾸로 float으로 타입 변경하고,\n",
    "    # temp_y는 to_categorical로 One-Hot 인코딩 진행해서 반환할게요.\n",
    "    return np.asarray(temp_x).astype('float'), to_categorical(temp_y)"
   ]
  },
  {
   "cell_type": "code",
   "execution_count": 11,
   "metadata": {},
   "outputs": [
    {
     "name": "stdout",
     "output_type": "stream",
     "text": [
      "51563\n",
      "22202\n"
     ]
    }
   ],
   "source": [
    "# 학습 문장이랑 테스트 문장의 길이 확인할게요. \n",
    "print(len(train_dict.keys()))\n",
    "print(len(test_dict.keys()))"
   ]
  },
  {
   "cell_type": "code",
   "execution_count": 12,
   "metadata": {},
   "outputs": [],
   "source": [
    "# 학습 문장이랑 테스트 문장을 \n",
    "# 각각 모델의 입력이랑 출력으로 나눌게요.\n",
    "\n",
    "# 데이터 전처리하고 나누는데 조금 많이 오래걸려요.\n",
    "# 이번주 진행했던 코드들 복습해주세요.\n",
    "x_train, y_train = make_shape4model(train_dict)\n",
    "x_test, y_test = make_shape4model(test_dict)"
   ]
  },
  {
   "cell_type": "code",
   "execution_count": 13,
   "metadata": {},
   "outputs": [
    {
     "name": "stdout",
     "output_type": "stream",
     "text": [
      "51562\n",
      "(51562, 76, 200)\n",
      "51562\n",
      "(51562, 2)\n",
      "22201\n",
      "(22201, 76, 200)\n",
      "22201\n",
      "(22201, 2)\n"
     ]
    }
   ],
   "source": [
    "# 데이터 확인해 볼게요\n",
    "# 나오는 shape은 (문장의 수, 단어의 개수, 한 단어의 벡터) 에요.\n",
    "print(len(x_train))\n",
    "print(x_train.shape)\n",
    "print(len(y_train))\n",
    "print(y_train.shape)\n",
    "\n",
    "print(len(x_test))\n",
    "print(x_test.shape)\n",
    "print(len(y_test))\n",
    "print(y_test.shape)"
   ]
  },
  {
   "cell_type": "code",
   "execution_count": 14,
   "metadata": {},
   "outputs": [],
   "source": [
    "# Loss 확인용 클래스 작성할게요\n",
    "class LossHistory(keras.callbacks.Callback):\n",
    "    def init(self):\n",
    "        self.losses = []\n",
    "\n",
    "    def on_epoch_end(self, batch, logs={}):\n",
    "        self.losses.append(logs.get('loss'))"
   ]
  },
  {
   "cell_type": "code",
   "execution_count": 15,
   "metadata": {},
   "outputs": [],
   "source": [
    "# 모델 생성하고 컴파일 할게요.\n",
    "history = LossHistory()\n",
    "history.init()\n",
    "\n",
    "model = Sequential()\n",
    "model.add(InputLayer(input_shape=(max_len, 200,)))\n",
    "model.add(Bidirectional(LSTM(units=128)))\n",
    "model.add(Dense(64, activation='relu'))\n",
    "model.add(Dropout(0.25))\n",
    "model.add(Dense(2, activation='softmax'))\n",
    "model.compile(loss='binary_crossentropy', optimizer='adam', metrics=['accuracy'])"
   ]
  },
  {
   "cell_type": "code",
   "execution_count": 16,
   "metadata": {},
   "outputs": [
    {
     "name": "stdout",
     "output_type": "stream",
     "text": [
      "[[0.52627903 0.47372097]]\n"
     ]
    }
   ],
   "source": [
    "# 생성한 모델의 출력 형태 확인할게요.\n",
    "x = np.asarray(x_train[0]).astype('float').reshape(1, x_train[0].shape[0], x_train[0].shape[1])\n",
    "pred = model.predict(x)\n",
    "print(pred)"
   ]
  },
  {
   "cell_type": "code",
   "execution_count": 17,
   "metadata": {
    "scrolled": false
   },
   "outputs": [
    {
     "data": {
      "image/svg+xml": [
       "<svg height=\"349pt\" viewBox=\"0.00 0.00 384.00 387.00\" width=\"347pt\" xmlns=\"http://www.w3.org/2000/svg\" xmlns:xlink=\"http://www.w3.org/1999/xlink\">\n",
       "<g class=\"graph\" id=\"graph0\" transform=\"scale(0.902778 0.902778) rotate(0) translate(4 383)\">\n",
       "<title>G</title>\n",
       "<polygon fill=\"white\" points=\"-4,4 -4,-383 380,-383 380,4 -4,4\" stroke=\"none\"/>\n",
       "<!-- 1807342045512 -->\n",
       "<g class=\"node\" id=\"node1\"><title>1807342045512</title>\n",
       "<polygon fill=\"none\" points=\"52.5,-332.5 52.5,-378.5 323.5,-378.5 323.5,-332.5 52.5,-332.5\" stroke=\"black\"/>\n",
       "<text font-family=\"Times New Roman,serif\" font-size=\"14.00\" text-anchor=\"middle\" x=\"115.5\" y=\"-351.8\">input_1: InputLayer</text>\n",
       "<polyline fill=\"none\" points=\"178.5,-332.5 178.5,-378.5 \" stroke=\"black\"/>\n",
       "<text font-family=\"Times New Roman,serif\" font-size=\"14.00\" text-anchor=\"middle\" x=\"206.5\" y=\"-363.3\">input:</text>\n",
       "<polyline fill=\"none\" points=\"178.5,-355.5 234.5,-355.5 \" stroke=\"black\"/>\n",
       "<text font-family=\"Times New Roman,serif\" font-size=\"14.00\" text-anchor=\"middle\" x=\"206.5\" y=\"-340.3\">output:</text>\n",
       "<polyline fill=\"none\" points=\"234.5,-332.5 234.5,-378.5 \" stroke=\"black\"/>\n",
       "<text font-family=\"Times New Roman,serif\" font-size=\"14.00\" text-anchor=\"middle\" x=\"279\" y=\"-363.3\">[(?, 76, 200)]</text>\n",
       "<polyline fill=\"none\" points=\"234.5,-355.5 323.5,-355.5 \" stroke=\"black\"/>\n",
       "<text font-family=\"Times New Roman,serif\" font-size=\"14.00\" text-anchor=\"middle\" x=\"279\" y=\"-340.3\">[(?, 76, 200)]</text>\n",
       "</g>\n",
       "<!-- 1808862034440 -->\n",
       "<g class=\"node\" id=\"node2\"><title>1808862034440</title>\n",
       "<polygon fill=\"none\" points=\"0,-249.5 0,-295.5 376,-295.5 376,-249.5 0,-249.5\" stroke=\"black\"/>\n",
       "<text font-family=\"Times New Roman,serif\" font-size=\"14.00\" text-anchor=\"middle\" x=\"120\" y=\"-268.8\">bidirectional(lstm): Bidirectional(LSTM)</text>\n",
       "<polyline fill=\"none\" points=\"240,-249.5 240,-295.5 \" stroke=\"black\"/>\n",
       "<text font-family=\"Times New Roman,serif\" font-size=\"14.00\" text-anchor=\"middle\" x=\"268\" y=\"-280.3\">input:</text>\n",
       "<polyline fill=\"none\" points=\"240,-272.5 296,-272.5 \" stroke=\"black\"/>\n",
       "<text font-family=\"Times New Roman,serif\" font-size=\"14.00\" text-anchor=\"middle\" x=\"268\" y=\"-257.3\">output:</text>\n",
       "<polyline fill=\"none\" points=\"296,-249.5 296,-295.5 \" stroke=\"black\"/>\n",
       "<text font-family=\"Times New Roman,serif\" font-size=\"14.00\" text-anchor=\"middle\" x=\"336\" y=\"-280.3\">(?, 76, 200)</text>\n",
       "<polyline fill=\"none\" points=\"296,-272.5 376,-272.5 \" stroke=\"black\"/>\n",
       "<text font-family=\"Times New Roman,serif\" font-size=\"14.00\" text-anchor=\"middle\" x=\"336\" y=\"-257.3\">(?, 256)</text>\n",
       "</g>\n",
       "<!-- 1807342045512&#45;&gt;1808862034440 -->\n",
       "<g class=\"edge\" id=\"edge1\"><title>1807342045512-&gt;1808862034440</title>\n",
       "<path d=\"M188,-332.366C188,-324.152 188,-314.658 188,-305.725\" fill=\"none\" stroke=\"black\"/>\n",
       "<polygon fill=\"black\" points=\"191.5,-305.607 188,-295.607 184.5,-305.607 191.5,-305.607\" stroke=\"black\"/>\n",
       "</g>\n",
       "<!-- 1808810121800 -->\n",
       "<g class=\"node\" id=\"node3\"><title>1808810121800</title>\n",
       "<polygon fill=\"none\" points=\"85.5,-166.5 85.5,-212.5 290.5,-212.5 290.5,-166.5 85.5,-166.5\" stroke=\"black\"/>\n",
       "<text font-family=\"Times New Roman,serif\" font-size=\"14.00\" text-anchor=\"middle\" x=\"130.5\" y=\"-185.8\">dense: Dense</text>\n",
       "<polyline fill=\"none\" points=\"175.5,-166.5 175.5,-212.5 \" stroke=\"black\"/>\n",
       "<text font-family=\"Times New Roman,serif\" font-size=\"14.00\" text-anchor=\"middle\" x=\"203.5\" y=\"-197.3\">input:</text>\n",
       "<polyline fill=\"none\" points=\"175.5,-189.5 231.5,-189.5 \" stroke=\"black\"/>\n",
       "<text font-family=\"Times New Roman,serif\" font-size=\"14.00\" text-anchor=\"middle\" x=\"203.5\" y=\"-174.3\">output:</text>\n",
       "<polyline fill=\"none\" points=\"231.5,-166.5 231.5,-212.5 \" stroke=\"black\"/>\n",
       "<text font-family=\"Times New Roman,serif\" font-size=\"14.00\" text-anchor=\"middle\" x=\"261\" y=\"-197.3\">(?, 256)</text>\n",
       "<polyline fill=\"none\" points=\"231.5,-189.5 290.5,-189.5 \" stroke=\"black\"/>\n",
       "<text font-family=\"Times New Roman,serif\" font-size=\"14.00\" text-anchor=\"middle\" x=\"261\" y=\"-174.3\">(?, 64)</text>\n",
       "</g>\n",
       "<!-- 1808862034440&#45;&gt;1808810121800 -->\n",
       "<g class=\"edge\" id=\"edge2\"><title>1808862034440-&gt;1808810121800</title>\n",
       "<path d=\"M188,-249.366C188,-241.152 188,-231.658 188,-222.725\" fill=\"none\" stroke=\"black\"/>\n",
       "<polygon fill=\"black\" points=\"191.5,-222.607 188,-212.607 184.5,-222.607 191.5,-222.607\" stroke=\"black\"/>\n",
       "</g>\n",
       "<!-- 1808810120520 -->\n",
       "<g class=\"node\" id=\"node4\"><title>1808810120520</title>\n",
       "<polygon fill=\"none\" points=\"75.5,-83.5 75.5,-129.5 300.5,-129.5 300.5,-83.5 75.5,-83.5\" stroke=\"black\"/>\n",
       "<text font-family=\"Times New Roman,serif\" font-size=\"14.00\" text-anchor=\"middle\" x=\"133.5\" y=\"-102.8\">dropout: Dropout</text>\n",
       "<polyline fill=\"none\" points=\"191.5,-83.5 191.5,-129.5 \" stroke=\"black\"/>\n",
       "<text font-family=\"Times New Roman,serif\" font-size=\"14.00\" text-anchor=\"middle\" x=\"219.5\" y=\"-114.3\">input:</text>\n",
       "<polyline fill=\"none\" points=\"191.5,-106.5 247.5,-106.5 \" stroke=\"black\"/>\n",
       "<text font-family=\"Times New Roman,serif\" font-size=\"14.00\" text-anchor=\"middle\" x=\"219.5\" y=\"-91.3\">output:</text>\n",
       "<polyline fill=\"none\" points=\"247.5,-83.5 247.5,-129.5 \" stroke=\"black\"/>\n",
       "<text font-family=\"Times New Roman,serif\" font-size=\"14.00\" text-anchor=\"middle\" x=\"274\" y=\"-114.3\">(?, 64)</text>\n",
       "<polyline fill=\"none\" points=\"247.5,-106.5 300.5,-106.5 \" stroke=\"black\"/>\n",
       "<text font-family=\"Times New Roman,serif\" font-size=\"14.00\" text-anchor=\"middle\" x=\"274\" y=\"-91.3\">(?, 64)</text>\n",
       "</g>\n",
       "<!-- 1808810121800&#45;&gt;1808810120520 -->\n",
       "<g class=\"edge\" id=\"edge3\"><title>1808810121800-&gt;1808810120520</title>\n",
       "<path d=\"M188,-166.366C188,-158.152 188,-148.658 188,-139.725\" fill=\"none\" stroke=\"black\"/>\n",
       "<polygon fill=\"black\" points=\"191.5,-139.607 188,-129.607 184.5,-139.607 191.5,-139.607\" stroke=\"black\"/>\n",
       "</g>\n",
       "<!-- 1807342034824 -->\n",
       "<g class=\"node\" id=\"node5\"><title>1807342034824</title>\n",
       "<polygon fill=\"none\" points=\"81.5,-0.5 81.5,-46.5 294.5,-46.5 294.5,-0.5 81.5,-0.5\" stroke=\"black\"/>\n",
       "<text font-family=\"Times New Roman,serif\" font-size=\"14.00\" text-anchor=\"middle\" x=\"133.5\" y=\"-19.8\">dense_1: Dense</text>\n",
       "<polyline fill=\"none\" points=\"185.5,-0.5 185.5,-46.5 \" stroke=\"black\"/>\n",
       "<text font-family=\"Times New Roman,serif\" font-size=\"14.00\" text-anchor=\"middle\" x=\"213.5\" y=\"-31.3\">input:</text>\n",
       "<polyline fill=\"none\" points=\"185.5,-23.5 241.5,-23.5 \" stroke=\"black\"/>\n",
       "<text font-family=\"Times New Roman,serif\" font-size=\"14.00\" text-anchor=\"middle\" x=\"213.5\" y=\"-8.3\">output:</text>\n",
       "<polyline fill=\"none\" points=\"241.5,-0.5 241.5,-46.5 \" stroke=\"black\"/>\n",
       "<text font-family=\"Times New Roman,serif\" font-size=\"14.00\" text-anchor=\"middle\" x=\"268\" y=\"-31.3\">(?, 64)</text>\n",
       "<polyline fill=\"none\" points=\"241.5,-23.5 294.5,-23.5 \" stroke=\"black\"/>\n",
       "<text font-family=\"Times New Roman,serif\" font-size=\"14.00\" text-anchor=\"middle\" x=\"268\" y=\"-8.3\">(?, 2)</text>\n",
       "</g>\n",
       "<!-- 1808810120520&#45;&gt;1807342034824 -->\n",
       "<g class=\"edge\" id=\"edge4\"><title>1808810120520-&gt;1807342034824</title>\n",
       "<path d=\"M188,-83.3664C188,-75.1516 188,-65.6579 188,-56.7252\" fill=\"none\" stroke=\"black\"/>\n",
       "<polygon fill=\"black\" points=\"191.5,-56.6068 188,-46.6068 184.5,-56.6069 191.5,-56.6068\" stroke=\"black\"/>\n",
       "</g>\n",
       "</g>\n",
       "</svg>"
      ],
      "text/plain": [
       "<IPython.core.display.SVG object>"
      ]
     },
     "execution_count": 17,
     "metadata": {},
     "output_type": "execute_result"
    }
   ],
   "source": [
    "# SVG로 시각화 해볼게요.\n",
    "SVG(model_to_dot(model, show_shapes=True, dpi=65).create(prog='dot', format='svg'))"
   ]
  },
  {
   "cell_type": "code",
   "execution_count": 18,
   "metadata": {},
   "outputs": [
    {
     "name": "stdout",
     "output_type": "stream",
     "text": [
      "Model: \"sequential\"\n",
      "_________________________________________________________________\n",
      "Layer (type)                 Output Shape              Param #   \n",
      "=================================================================\n",
      "bidirectional (Bidirectional (None, 256)               336896    \n",
      "_________________________________________________________________\n",
      "dense (Dense)                (None, 64)                16448     \n",
      "_________________________________________________________________\n",
      "dropout (Dropout)            (None, 64)                0         \n",
      "_________________________________________________________________\n",
      "dense_1 (Dense)              (None, 2)                 130       \n",
      "=================================================================\n",
      "Total params: 353,474\n",
      "Trainable params: 353,474\n",
      "Non-trainable params: 0\n",
      "_________________________________________________________________\n"
     ]
    }
   ],
   "source": [
    "# summary()로 확인해볼게요.\n",
    "model.summary()"
   ]
  },
  {
   "cell_type": "code",
   "execution_count": 19,
   "metadata": {},
   "outputs": [
    {
     "name": "stdout",
     "output_type": "stream",
     "text": [
      "Epoch 1/10\n",
      "403/403 [==============================] - 66s 164ms/step - loss: 0.5587 - accuracy: 0.7055\n",
      "Epoch 2/10\n",
      "403/403 [==============================] - 68s 169ms/step - loss: 0.4858 - accuracy: 0.7579\n",
      "Epoch 3/10\n",
      "403/403 [==============================] - 66s 164ms/step - loss: 0.4472 - accuracy: 0.7830\n",
      "Epoch 4/10\n",
      "403/403 [==============================] - 65s 162ms/step - loss: 0.4060 - accuracy: 0.8086\n",
      "Epoch 5/10\n",
      "403/403 [==============================] - 65s 162ms/step - loss: 0.3623 - accuracy: 0.8303\n",
      "Epoch 6/10\n",
      "403/403 [==============================] - 68s 170ms/step - loss: 0.3213 - accuracy: 0.8517\n",
      "Epoch 7/10\n",
      "403/403 [==============================] - 66s 164ms/step - loss: 0.2781 - accuracy: 0.8739\n",
      "Epoch 8/10\n",
      "403/403 [==============================] - 68s 168ms/step - loss: 0.2394 - accuracy: 0.8915\n",
      "Epoch 9/10\n",
      "403/403 [==============================] - 66s 163ms/step - loss: 0.2092 - accuracy: 0.9058\n",
      "Epoch 10/10\n",
      "403/403 [==============================] - 65s 162ms/step - loss: 0.1788 - accuracy: 0.9187\n"
     ]
    },
    {
     "data": {
      "text/plain": [
       "<tensorflow.python.keras.callbacks.History at 0x1a62219e388>"
      ]
     },
     "execution_count": 19,
     "metadata": {},
     "output_type": "execute_result"
    }
   ],
   "source": [
    "# 모델 학습 진행할게요.\n",
    "# 많이 오래 걸려요.\n",
    "# 이번주 진행했던 코드들 복습해주세요.\n",
    "model.fit(x_train, y_train, epochs=10, batch_size=128, callbacks=[history])"
   ]
  },
  {
   "cell_type": "code",
   "execution_count": 20,
   "metadata": {},
   "outputs": [
    {
     "data": {
      "image/png": "[encoded data removed]",
      "text/plain": [
       "<Figure size 432x288 with 1 Axes>"
      ]
     },
     "metadata": {
      "needs_background": "light"
     },
     "output_type": "display_data"
    }
   ],
   "source": [
    "# Loss 확인할게요.\n",
    "loss = history.losses\n",
    "epochs = range(len(loss))\n",
    "plt.plot(epochs, loss)\n",
    "plt.show()"
   ]
  },
  {
   "cell_type": "code",
   "execution_count": 21,
   "metadata": {},
   "outputs": [],
   "source": [
    "# 모델의 정확도만 평가하는 함수작성 할게요.\n",
    "def _eval(sentences, labels):\n",
    "    correct_cnt = 0\n",
    "    \n",
    "    # 문장이랑 레이블 받아서 진행할게요.\n",
    "    for sentence, label in zip(sentences, labels):\n",
    "        # 모델 입력 데이터 array로 바꾸면서, 타입도 변경할게요.\n",
    "        x = np.asarray(sentence).astype('float')\n",
    "        \n",
    "        # RNN 계열은 입력이 3차원이기 때문에 shape 변경할게요.\n",
    "        x = x.reshape(1, x.shape[0], x.shape[1])\n",
    "        \n",
    "        # label은 (0, 1)로 되어있으니까, max값의 인덱스로\n",
    "        # label 설정할게요.\n",
    "        y = list(label)\n",
    "        y = y.index(max(y))\n",
    "        \n",
    "        # 모델로 x 분류 진행할게요.\n",
    "        predict = np.squeeze(model.predict(x))\n",
    "        predict = predict.argmax()\n",
    "        if predict == y:\n",
    "            correct_cnt += 1\n",
    "    return correct_cnt"
   ]
  },
  {
   "cell_type": "code",
   "execution_count": 22,
   "metadata": {},
   "outputs": [
    {
     "name": "stdout",
     "output_type": "stream",
     "text": [
      "48283  /  51562  :  0.9364066560645437\n"
     ]
    }
   ],
   "source": [
    "# 모델에 학습 데이터로 모델 정확도 확인할게요.\n",
    "# 조금 많이 오래걸려요. \n",
    "# 이번주 진행했던 코드들 복습해주세요.\n",
    "ccnt = _eval(x_train, y_train)\n",
    "print(ccnt, ' / ', len(x_train),' : ', ccnt/len(x_train))"
   ]
  },
  {
   "cell_type": "code",
   "execution_count": 23,
   "metadata": {},
   "outputs": [
    {
     "name": "stdout",
     "output_type": "stream",
     "text": [
      "16431  /  22201  :  0.7401017972163416\n"
     ]
    }
   ],
   "source": [
    "# 평가 데이터로 모델 정확도 확인할게요.\n",
    "# 조금 많이 오래걸려요.\n",
    "# 이번주 진행했던 코드들 복습해주세요.\n",
    "ccnt = _eval(x_test, y_test)\n",
    "print(ccnt, ' / ', len(x_test), ' : ' , ccnt/len(x_test))"
   ]
  },
  {
   "cell_type": "markdown",
   "metadata": {},
   "source": [
    "### 다 되셨으면, 어제 사용했던 ChatbotData로 레이블 3개인 멀티클래스 분류를 진행해보세요. ###\n",
    "\n",
    "\n",
    "**-1. 먼저 데이터 읽어주세요. 컬럼은 'Q'랑 'label'만 사용할게요.**  \n",
    "\n",
    "**-2. 읽은 데이터를 DataFrame으로 만들어 주세요.**\n",
    "\n",
    "**-3. DataFrame를 레이블로 그룹화 해주세요.**  \n",
    "\n",
    "**-4. 그룹화된 DataFrame에서 각 레이블 그룹별로 학습에 7, 평가에 3으로 나눠주세요.**  \n",
    "\n",
    "**-5. 학습문장, 평가문장 각각 읽어가며, 토크나이즈해서 words_set 만들면서, 최대 문장 길이인 max_len 설정해주세요.**  \n",
    "\n",
    "**-6. 학습문장, 평가문장 각각 모델의 입력과 출력을 위한 형태로 만들어주세요.  \n",
    "      모델에 임베딩 레이어 추가하셔도 되고, 아니면 word2vec pre-trained 모델 사용하셔도 되요.  \n",
    "      모델의 입력은 shape=(문장 개수, max_len, embedding_size)이고, 출력은 shape=(문장 개수, label 개수) 에요.**\n",
    "      \n",
    "**-7. 모델은 만드시고 싶으신데로 만들어주세요. CNN을 사용해도 상관없어요.**\n",
    "\n",
    "**-8. SVG()사용해서 모델 시각화 해주세요.**\n",
    "\n",
    "**-9. 모델 컴파일 하시고, 학습 진행해주세요.**\n",
    "\n",
    "**-10. 마지막으로, 평가 데이터로 모델 평가 진행해주세요.**"
   ]
  }
 ],
 "metadata": {
  "kernelspec": {
   "display_name": "Python 3",
   "language": "python",
   "name": "python3"
  },
  "language_info": {
   "codemirror_mode": {
    "name": "ipython",
    "version": 3
   },
   "file_extension": ".py",
   "mimetype": "text/x-python",
   "name": "python",
   "nbconvert_exporter": "python",
   "pygments_lexer": "ipython3",
   "version": "3.7.7"
  }
 },
 "nbformat": 4,
 "nbformat_minor": 4
}
