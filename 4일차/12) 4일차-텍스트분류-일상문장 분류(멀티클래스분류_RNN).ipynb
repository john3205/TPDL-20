{
 "cells": [
  {
   "cell_type": "markdown",
   "metadata": {},
   "source": [
    "## 텍스트 분류 - 일상문장 분류 (중립, 긍정, 부정; 멀티클래스 분류_RNN)"
   ]
  },
  {
   "cell_type": "code",
   "execution_count": 18,
   "metadata": {},
   "outputs": [],
   "source": [
    "# 사용 모듈 import 할게요.\n",
    "import numpy as np\n",
    "import matplotlib.pyplot as plt\n",
    "\n",
    "# 전처리를 위한 konlpy의 Okt import 할게요.\n",
    "from konlpy.tag import Okt\n",
    "\n",
    "# 임베딩을 위한 gensim import 할게요.\n",
    "import gensim\n",
    "\n",
    "# tensorflow.kears 쪽 모듈 import 할게요.\n",
    "from tensorflow import keras\n",
    "from tensorflow.keras.models import Sequential\n",
    "from tensorflow.keras.layers import Dense, Dropout, LSTM, Embedding, Bidirectional, InputLayer\n",
    "from tensorflow.keras.utils import to_categorical\n",
    "from tensorflow.keras.utils import model_to_dot\n",
    "from IPython.display import SVG"
   ]
  },
  {
   "cell_type": "code",
   "execution_count": 3,
   "metadata": {},
   "outputs": [
    {
     "name": "stdout",
     "output_type": "stream",
     "text": [
      "Index(['Q', 'A', 'label'], dtype='object')\n"
     ]
    }
   ],
   "source": [
    "# 파일 경로 설정할게요.\n",
    "data_path = '../data/Chatbot_data-master/ChatbotData.csv'\n",
    "\n",
    "# pandas로 파일 읽어서 DataFrame 만들게요\n",
    "df = pd.read_csv(data_path)\n",
    "print(df.columns)"
   ]
  },
  {
   "cell_type": "code",
   "execution_count": 4,
   "metadata": {},
   "outputs": [
    {
     "name": "stdout",
     "output_type": "stream",
     "text": [
      "[['12시 땡!' 0]\n",
      " ['1지망 학교 떨어졌어' 0]\n",
      " ['3박4일 놀러가고 싶다' 0]\n",
      " ['3박4일 정도 놀러가고 싶다' 0]\n",
      " ['PPL 심하네' 0]]\n",
      "11823\n",
      "[2524 8998 8290 ... 1368 1489 5860]\n",
      "[   0 8192    2 ... 8183 8185 8186]\n",
      "8276\n",
      "3547\n"
     ]
    }
   ],
   "source": [
    "# 전에 설명드렸던거랑은 \n",
    "# 다른방법으로 진행해볼게요.\n",
    "\n",
    "# np.random.seed(number)를 사용하면 이 셀에서\n",
    "# np.random의 값이 안바껴요.\n",
    "np.random.seed(0)\n",
    "\n",
    "# DataFrame에서 'Q', 'label'컬럼의 데이터만 가지고 와서\n",
    "# .values로 인덱스, 컬럼 제외한 데이터만 가지고 올게요.\n",
    "sentences = df[['Q', 'label']].values\n",
    "\n",
    "# 앞에서 5개 데이터만 확인할게요.\n",
    "print(sentences[:5])\n",
    "# 데이터 전체 길이 확인할게요.\n",
    "print(len(sentences))\n",
    "\n",
    "# 이 데이터가 0 / 1 / 2 로 나눠져 있는데, 데이터가 안섞여있어요.\n",
    "# 전체에서 무작위로 70% 뽑기 위해서 train_mask를 사용할게요.\n",
    "# np.random.choice(length, replace, size) 함수는\n",
    "# 0~length까지의 숫자 중에 size만큼의 수를 random으로 추출하는 거에요.\n",
    "# replace=True면 중복을 허락하고, replace=False면 중복을 허락안해요.\n",
    "train_mask = np.random.choice(len(sentences), replace=False, size=int(len(sentences)*0.7))\n",
    "\n",
    "# test_mask는 나머지 30%를 위한거에요.\n",
    "# 전체와 동일한 길이의 array를 np.arange로 생성하고\n",
    "test_mask = np.arange(len(sentences))\n",
    "# set()의 함수 중 차집합 함수를 사용해서\n",
    "# 전체에서 학습에 사용할 70%인 train_mask를 빼주는 거에요.\n",
    "test_mask = np.asarray(list(set(test_mask).difference(set(train_mask))))\n",
    "\n",
    "#데이터 한번 확인해보세요.\n",
    "print(train_mask)\n",
    "print(test_mask)\n",
    "print(len(train_mask))\n",
    "print(len(test_mask))"
   ]
  },
  {
   "cell_type": "code",
   "execution_count": 6,
   "metadata": {},
   "outputs": [
    {
     "name": "stdout",
     "output_type": "stream",
     "text": [
      "['12시 땡!' 0]\n"
     ]
    }
   ],
   "source": [
    "# 전체 데이터를 학습데이터랑\n",
    "# 평가 데이터로 나눌게요.\n",
    "\n",
    "# 각각을 저장할 딕셔너리를 생성하고,\n",
    "train_dict = {}\n",
    "test_dict = {}\n",
    "\n",
    "# enumerate()함수로 데이터의 위치와 데이터를 함께 받아올게요.\n",
    "for idx, sentence_label in enumerate(sentences):\n",
    "    \n",
    "    # 제일 처음에 한번만 데이터 출력해서 확인할게요.\n",
    "    if idx == 0:\n",
    "        print(sentence_label)\n",
    "        \n",
    "    # sentence_label이 [문장, label]로 되어있으니까\n",
    "    # 나눠서 받아줄게요.\n",
    "    sentence, label = sentence_label\n",
    "    \n",
    "    # 현재 데이터의 위치가 train_mask안에 있으면\n",
    "    # 학습 딕셔너리에 저장하고\n",
    "    if idx in train_mask:\n",
    "        train_dict[sentence] = label\n",
    "    # 그게 아니면 평가 딕셔너리에 저장할게요.\n",
    "    else:\n",
    "        test_dict[sentence] = label"
   ]
  },
  {
   "cell_type": "code",
   "execution_count": 9,
   "metadata": {},
   "outputs": [],
   "source": [
    "# 제거할 품사 설정해 줄게요.\n",
    "stop_pos = ['Punctuation', 'Hashtag', 'Foreign', 'URL', 'Email', 'Number', 'ScreenName', 'Alpha']"
   ]
  },
  {
   "cell_type": "code",
   "execution_count": 10,
   "metadata": {},
   "outputs": [],
   "source": [
    "# 학습 문장으로 words_set 생성, 업데이트하면서\n",
    "# 학습 문장의 최대 길이 설정할게요.\n",
    "okt = Okt()\n",
    "words_set = set()\n",
    "max_len_train = 0\n",
    "max_len_train_idx = 0\n",
    "\n",
    "# 먼저 train에서 데이터 받아올게요.\n",
    "for idx, train_sentence in enumerate(train_dict.keys()):\n",
    "    sentence = train_sentence.strip()\n",
    "    \n",
    "    # 분류라서 문장이 사람에게 익숙하지 않아도 되니까,\n",
    "    # normalize랑 stemming 진행해 줄게요.\n",
    "    words = okt.pos(sentence, norm=True, stem=True)\n",
    "    \n",
    "    # 토크나이즈된 문장에서\n",
    "    # 제거할 품사에 해당하는 단어지우고 사용할게요.\n",
    "    words = [word for word, pos in words if pos not in stop_pos ]\n",
    "\n",
    "    # 학습 문장의 최대길이 찾아 줄게요.\n",
    "    if len(words) > max_len_train:\n",
    "        max_len_train = len(words)\n",
    "        max_len_train_idx = idx\n",
    "    \n",
    "    # words_set 업데이트 할게요.\n",
    "    words_set.update(words)"
   ]
  },
  {
   "cell_type": "code",
   "execution_count": 11,
   "metadata": {},
   "outputs": [],
   "source": [
    "# 테스트 문장으로도 words_set 업데이트하면서\n",
    "# 테스트 문장의 최대 길이 설정할게요.\n",
    "max_len_test = 0\n",
    "max_len_test_idx = 0\n",
    "\n",
    "# test에서 데이터 받아올게요.\n",
    "for idx, test_sentence in enumerate(test_dict.keys()):\n",
    "    sentence = test_sentence.strip()\n",
    "    \n",
    "    # 분류라서 문장이 사람에게 익숙하지 않아도 되니까,\n",
    "    # normalize랑 stemming 진행해 줄게요.\n",
    "    words = okt.pos(sentence, norm=True, stem=True)\n",
    "    \n",
    "    # 토크나이즈된 문장에서\n",
    "    # 제거할 품사에 해당하는 단어지우고 사용할게요.\n",
    "    words = [word for word, pos in words if pos not in stop_pos ]\n",
    "\n",
    "    # 테스트 문장의 최대길이 찾아 줄게요.\n",
    "    if len(words) > max_len_test:\n",
    "        max_len_test = len(words)\n",
    "        max_len_test_idx = idx\n",
    "    \n",
    "    # words_set 업데이트 할게요.\n",
    "    words_set.update(words)"
   ]
  },
  {
   "cell_type": "code",
   "execution_count": 12,
   "metadata": {},
   "outputs": [
    {
     "name": "stdout",
     "output_type": "stream",
     "text": [
      "20\n",
      "7633\n",
      "2577\n",
      "제가 좋아하는 사람이 맘 잡고 공부해야할 것 같다고 기다려달라는데 제 맘이 안별할까요? \n",
      "\n",
      "헤어지고 뜨문뜨문 연락은 다시 시작하긴 뭐하고 남주긴 아까운 뭐 이런마음인건가?\n"
     ]
    }
   ],
   "source": [
    "# 전체 문장에서 최대길이 찾아 줄게요.\n",
    "max_len = max(max_len_train, max_len_test)\n",
    "print(max_len)\n",
    "\n",
    "# 학슴 및 테스트 데이터에서\n",
    "# 각각의 최대길이 문장 확인해 볼게요.\n",
    "print(max_len_train_idx)\n",
    "print(max_len_test_idx)\n",
    "print(list(train_dict.keys())[max_len_train_idx], '\\n')\n",
    "print(list(test_dict.keys())[max_len_test_idx])"
   ]
  },
  {
   "cell_type": "code",
   "execution_count": 14,
   "metadata": {},
   "outputs": [
    {
     "name": "stdout",
     "output_type": "stream",
     "text": [
      "['헤어지다', '뜨다', '문', '뜨다', '문', '연락', '은', '다시', '시작', '하다', '뭐', '하고', '남다', '아깝다', '뭐', '이런', '마음', '인', '건가', '?']\n",
      "['헤어지다', '뜨다', '문', '뜨다', '문', '연락', '은', '다시', '시작', '하다', '뭐', '하고', '남다', '아깝다', '뭐', '이런', '마음', '인', '건가']\n"
     ]
    }
   ],
   "source": [
    "# 테스트 데이터의 최대길이 문장,\n",
    "# 토크나이즈 어떻게 되는지 확인해볼게요.\n",
    "text = '헤어지고 뜨문뜨문 연락은 다시 시작하긴 뭐하고 남주긴 아까운 뭐 이런마음인건가?'\n",
    "words = okt.pos(text, norm=True, stem=True)\n",
    "\n",
    "# 토크나이즈만 진행한 문장이구요,\n",
    "print([word for word, _ in words])\n",
    "\n",
    "# pos filtering 까지 진행한 문장이에요.\n",
    "print([word for word, pos in words if pos not in stop_pos])"
   ]
  },
  {
   "cell_type": "code",
   "execution_count": 15,
   "metadata": {},
   "outputs": [
    {
     "name": "stdout",
     "output_type": "stream",
     "text": [
      "4504\n",
      "['', 'ㅋ', 'ㅋㅋ', 'ㅎ', 'ㅎㅎ', 'ㅎㅎㅎ', 'ㅜ', 'ㅜㅜ', 'ㅠ', 'ㅠㅠ']\n",
      "['힐링', '힘', '힘겹다', '힘껏', '힘내다', '힘내렵니', '힘드다', '힘들다', '힘차다', '힙듭니']\n"
     ]
    }
   ],
   "source": [
    "# words_set 길이랑 데이터 확인할게요.\n",
    "words_set = list(sorted(words_set))\n",
    "\n",
    "# zero-padding을 위해서 0번 자리에 '' 공백 하나 넣어줄게요.\n",
    "words_set.insert(0, '')\n",
    "\n",
    "print(len(words_set))\n",
    "print(words_set[:10])\n",
    "print(words_set[-10:])"
   ]
  },
  {
   "cell_type": "code",
   "execution_count": 16,
   "metadata": {},
   "outputs": [],
   "source": [
    "# 모델을 위한 형태로 \n",
    "# 문장을 변경하는 함수 작성할게요.\n",
    "\n",
    "def make_shape4model(sentence_label_dict):\n",
    "    # 단어 임베딩을 위해서 word2vec pre-trained 모델 사용할게요.\n",
    "    # gensim으로 모델 불러올게요.\n",
    "    w2v = gensim.models.Word2Vec.load('../data/ko.bin')\n",
    "    # 모델의 입력으로 사용할 데이터\n",
    "    # 저장하는 temp_x 생성할게요.\n",
    "    temp_x = []\n",
    "    \n",
    "    # 모델의 출력으로 사용할 데이터 \n",
    "    # 저장하는 temp_y 생성할게요.\n",
    "    temp_y = []\n",
    "\n",
    "    # 입력 받은 문장 가져올게요.\n",
    "    for sentence in sentence_label_dict.keys():\n",
    "        \n",
    "        # 문장에 다시 normalization이랑 stemming 진행하면서 \n",
    "        # 단어만 가져올게요.\n",
    "        words = okt.pos(sentence, norm=True, stem=True)\n",
    "        words = [word for word, _ in words]\n",
    "        \n",
    "        # 전처리 진행 후 남는 단어가 없으면\n",
    "        # 넘어갈게요.\n",
    "        if not words:\n",
    "            continue\n",
    "        \n",
    "        # 단어 임베딩은 word2vec pre-trained 모델로 진행할게요.\n",
    "        # try-except문으로 pre-trained 모델에 학습 안된 단어는\n",
    "        # 넘어가도록 해서 진행할게요.\n",
    "        sent = []\n",
    "        for word in words:\n",
    "            try: \n",
    "                sent.append(w2v.wv[word])\n",
    "            except KeyError:\n",
    "                continue\n",
    "        \n",
    "        # 최대 문장의 길이만큼 \n",
    "        # 문장의 앞쪽으로 zero-padding 진행할게요.\n",
    "        padding_size = max_len-len(sent)\n",
    "        for i in range(padding_size):\n",
    "            sent.insert(0, np.zeros(200))\n",
    "        \n",
    "        # zero-padding까지 진행된 문장을\n",
    "        # temp_x에 저장할게요.\n",
    "        temp_x.append(sent)\n",
    "        \n",
    "        # Dictionary에 key로 sentence 집어넣으면\n",
    "        # 나오는 레이블 그대로 temp_y에 저장할게요.\n",
    "        temp_y.append(sentence_label_dict[sentence])\n",
    "        \n",
    "    # temp_x는 numpy.ndarray로 바꾸로 float으로 타입 변경하고,\n",
    "    # temp_y는 to_categorical로 One-Hot 인코딩 진행해서 반환할게요.\n",
    "    return np.asarray(temp_x).astype('float'), to_categorical(temp_y)"
   ]
  },
  {
   "cell_type": "code",
   "execution_count": 19,
   "metadata": {},
   "outputs": [],
   "source": [
    "# 학습 문장이랑 테스트 문장을 \n",
    "# 각각 모델의 입력이랑 출력으로 나눌게요.\n",
    "\n",
    "x_train, y_train = make_shape4model(train_dict)\n",
    "x_test, y_test = make_shape4model(test_dict)"
   ]
  },
  {
   "cell_type": "code",
   "execution_count": 20,
   "metadata": {},
   "outputs": [
    {
     "name": "stdout",
     "output_type": "stream",
     "text": [
      "8188\n",
      "(8188, 20, 200)\n",
      "8188\n",
      "(8188, 3)\n",
      "3530\n",
      "(3530, 20, 200)\n",
      "3530\n",
      "(3530, 3)\n"
     ]
    }
   ],
   "source": [
    "# 데이터 확인해 볼게요\n",
    "# 나오는 shape은 (문장의 수, 단어의 개수, 한 단어의 벡터) 에요.\n",
    "print(len(x_train))\n",
    "print(x_train.shape)\n",
    "print(len(y_train))\n",
    "print(y_train.shape)\n",
    "\n",
    "print(len(x_test))\n",
    "print(x_test.shape)\n",
    "print(len(y_test))\n",
    "print(y_test.shape)"
   ]
  },
  {
   "cell_type": "code",
   "execution_count": 22,
   "metadata": {},
   "outputs": [],
   "source": [
    "# Loss 확인용 클래스 작성\n",
    "class LossHistory(keras.callbacks.Callback):\n",
    "    def init(self):\n",
    "        self.losses = []\n",
    "\n",
    "    def on_epoch_end(self, batch, logs={}):\n",
    "        self.losses.append(logs.get('loss'))"
   ]
  },
  {
   "cell_type": "code",
   "execution_count": 28,
   "metadata": {},
   "outputs": [],
   "source": [
    "# 모델 생성 및 컴파일\n",
    "history = LossHistory()\n",
    "history.init()\n",
    "\n",
    "model = Sequential()\n",
    "model.add(LSTM(units=64, input_shape=(None, 200)))\n",
    "model.add(Dense(3, activation='softmax'))\n",
    "model.compile(loss='categorical_crossentropy', optimizer='adam', metrics=['accuracy'])"
   ]
  },
  {
   "cell_type": "code",
   "execution_count": 29,
   "metadata": {},
   "outputs": [
    {
     "name": "stdout",
     "output_type": "stream",
     "text": [
      "[[0.3329382  0.36709553 0.29996628]]\n"
     ]
    }
   ],
   "source": [
    "# 생성한 모델의 출력 형태 확인할게요.\n",
    "x = np.asarray(x_train[0]).astype('float').reshape(1, x_train[0].shape[0], x_train[0].shape[1])\n",
    "pred = model.predict(x)\n",
    "print(pred)"
   ]
  },
  {
   "cell_type": "code",
   "execution_count": 32,
   "metadata": {},
   "outputs": [
    {
     "data": {
      "image/svg+xml": [
       "<svg height=\"200pt\" viewBox=\"0.00 0.00 303.00 221.00\" width=\"274pt\" xmlns=\"http://www.w3.org/2000/svg\" xmlns:xlink=\"http://www.w3.org/1999/xlink\">\n",
       "<g class=\"graph\" id=\"graph0\" transform=\"scale(0.902778 0.902778) rotate(0) translate(4 217)\">\n",
       "<title>G</title>\n",
       "<polygon fill=\"white\" points=\"-4,4 -4,-217 299,-217 299,4 -4,4\" stroke=\"none\"/>\n",
       "<!-- 1245043955976 -->\n",
       "<g class=\"node\" id=\"node1\"><title>1245043955976</title>\n",
       "<polygon fill=\"none\" points=\"0,-166.5 0,-212.5 295,-212.5 295,-166.5 0,-166.5\" stroke=\"black\"/>\n",
       "<text font-family=\"Times New Roman,serif\" font-size=\"14.00\" text-anchor=\"middle\" x=\"78.5\" y=\"-185.8\">lstm_3_input: InputLayer</text>\n",
       "<polyline fill=\"none\" points=\"157,-166.5 157,-212.5 \" stroke=\"black\"/>\n",
       "<text font-family=\"Times New Roman,serif\" font-size=\"14.00\" text-anchor=\"middle\" x=\"185\" y=\"-197.3\">input:</text>\n",
       "<polyline fill=\"none\" points=\"157,-189.5 213,-189.5 \" stroke=\"black\"/>\n",
       "<text font-family=\"Times New Roman,serif\" font-size=\"14.00\" text-anchor=\"middle\" x=\"185\" y=\"-174.3\">output:</text>\n",
       "<polyline fill=\"none\" points=\"213,-166.5 213,-212.5 \" stroke=\"black\"/>\n",
       "<text font-family=\"Times New Roman,serif\" font-size=\"14.00\" text-anchor=\"middle\" x=\"254\" y=\"-197.3\">[(?, ?, 200)]</text>\n",
       "<polyline fill=\"none\" points=\"213,-189.5 295,-189.5 \" stroke=\"black\"/>\n",
       "<text font-family=\"Times New Roman,serif\" font-size=\"14.00\" text-anchor=\"middle\" x=\"254\" y=\"-174.3\">[(?, ?, 200)]</text>\n",
       "</g>\n",
       "<!-- 1245043953480 -->\n",
       "<g class=\"node\" id=\"node2\"><title>1245043953480</title>\n",
       "<polygon fill=\"none\" points=\"34,-83.5 34,-129.5 261,-129.5 261,-83.5 34,-83.5\" stroke=\"black\"/>\n",
       "<text font-family=\"Times New Roman,serif\" font-size=\"14.00\" text-anchor=\"middle\" x=\"83\" y=\"-102.8\">lstm_3: LSTM</text>\n",
       "<polyline fill=\"none\" points=\"132,-83.5 132,-129.5 \" stroke=\"black\"/>\n",
       "<text font-family=\"Times New Roman,serif\" font-size=\"14.00\" text-anchor=\"middle\" x=\"160\" y=\"-114.3\">input:</text>\n",
       "<polyline fill=\"none\" points=\"132,-106.5 188,-106.5 \" stroke=\"black\"/>\n",
       "<text font-family=\"Times New Roman,serif\" font-size=\"14.00\" text-anchor=\"middle\" x=\"160\" y=\"-91.3\">output:</text>\n",
       "<polyline fill=\"none\" points=\"188,-83.5 188,-129.5 \" stroke=\"black\"/>\n",
       "<text font-family=\"Times New Roman,serif\" font-size=\"14.00\" text-anchor=\"middle\" x=\"224.5\" y=\"-114.3\">(?, ?, 200)</text>\n",
       "<polyline fill=\"none\" points=\"188,-106.5 261,-106.5 \" stroke=\"black\"/>\n",
       "<text font-family=\"Times New Roman,serif\" font-size=\"14.00\" text-anchor=\"middle\" x=\"224.5\" y=\"-91.3\">(?, 64)</text>\n",
       "</g>\n",
       "<!-- 1245043955976&#45;&gt;1245043953480 -->\n",
       "<g class=\"edge\" id=\"edge1\"><title>1245043955976-&gt;1245043953480</title>\n",
       "<path d=\"M147.5,-166.366C147.5,-158.152 147.5,-148.658 147.5,-139.725\" fill=\"none\" stroke=\"black\"/>\n",
       "<polygon fill=\"black\" points=\"151,-139.607 147.5,-129.607 144,-139.607 151,-139.607\" stroke=\"black\"/>\n",
       "</g>\n",
       "<!-- 1245043953416 -->\n",
       "<g class=\"node\" id=\"node3\"><title>1245043953416</title>\n",
       "<polygon fill=\"none\" points=\"41,-0.5 41,-46.5 254,-46.5 254,-0.5 41,-0.5\" stroke=\"black\"/>\n",
       "<text font-family=\"Times New Roman,serif\" font-size=\"14.00\" text-anchor=\"middle\" x=\"93\" y=\"-19.8\">dense_2: Dense</text>\n",
       "<polyline fill=\"none\" points=\"145,-0.5 145,-46.5 \" stroke=\"black\"/>\n",
       "<text font-family=\"Times New Roman,serif\" font-size=\"14.00\" text-anchor=\"middle\" x=\"173\" y=\"-31.3\">input:</text>\n",
       "<polyline fill=\"none\" points=\"145,-23.5 201,-23.5 \" stroke=\"black\"/>\n",
       "<text font-family=\"Times New Roman,serif\" font-size=\"14.00\" text-anchor=\"middle\" x=\"173\" y=\"-8.3\">output:</text>\n",
       "<polyline fill=\"none\" points=\"201,-0.5 201,-46.5 \" stroke=\"black\"/>\n",
       "<text font-family=\"Times New Roman,serif\" font-size=\"14.00\" text-anchor=\"middle\" x=\"227.5\" y=\"-31.3\">(?, 64)</text>\n",
       "<polyline fill=\"none\" points=\"201,-23.5 254,-23.5 \" stroke=\"black\"/>\n",
       "<text font-family=\"Times New Roman,serif\" font-size=\"14.00\" text-anchor=\"middle\" x=\"227.5\" y=\"-8.3\">(?, 3)</text>\n",
       "</g>\n",
       "<!-- 1245043953480&#45;&gt;1245043953416 -->\n",
       "<g class=\"edge\" id=\"edge2\"><title>1245043953480-&gt;1245043953416</title>\n",
       "<path d=\"M147.5,-83.3664C147.5,-75.1516 147.5,-65.6579 147.5,-56.7252\" fill=\"none\" stroke=\"black\"/>\n",
       "<polygon fill=\"black\" points=\"151,-56.6068 147.5,-46.6068 144,-56.6069 151,-56.6068\" stroke=\"black\"/>\n",
       "</g>\n",
       "</g>\n",
       "</svg>"
      ],
      "text/plain": [
       "<IPython.core.display.SVG object>"
      ]
     },
     "execution_count": 32,
     "metadata": {},
     "output_type": "execute_result"
    }
   ],
   "source": [
    "# SVG로 시각화 해볼게요.\n",
    "SVG(model_to_dot(model, show_shapes=True, dpi=65).create(prog='dot', format='svg'))"
   ]
  },
  {
   "cell_type": "code",
   "execution_count": 31,
   "metadata": {},
   "outputs": [
    {
     "name": "stdout",
     "output_type": "stream",
     "text": [
      "Epoch 1/10\n",
      "64/64 [==============================] - 1s 11ms/step - loss: 0.8705 - accuracy: 0.6088\n",
      "Epoch 2/10\n",
      "64/64 [==============================] - 1s 10ms/step - loss: 0.6909 - accuracy: 0.7076\n",
      "Epoch 3/10\n",
      "64/64 [==============================] - 1s 12ms/step - loss: 0.6224 - accuracy: 0.7413\n",
      "Epoch 4/10\n",
      "64/64 [==============================] - 1s 10ms/step - loss: 0.5701 - accuracy: 0.7655\n",
      "Epoch 5/10\n",
      "64/64 [==============================] - 1s 11ms/step - loss: 0.5218 - accuracy: 0.7860\n",
      "Epoch 6/10\n",
      "64/64 [==============================] - 1s 10ms/step - loss: 0.4837 - accuracy: 0.8021\n",
      "Epoch 7/10\n",
      "64/64 [==============================] - 1s 10ms/step - loss: 0.4498 - accuracy: 0.8181\n",
      "Epoch 8/10\n",
      "64/64 [==============================] - 1s 10ms/step - loss: 0.4134 - accuracy: 0.8352\n",
      "Epoch 9/10\n",
      "64/64 [==============================] - 1s 11ms/step - loss: 0.3820 - accuracy: 0.8517\n",
      "Epoch 10/10\n",
      "64/64 [==============================] - 1s 10ms/step - loss: 0.3598 - accuracy: 0.8577\n"
     ]
    },
    {
     "data": {
      "text/plain": [
       "<tensorflow.python.keras.callbacks.History at 0x121e3d43a88>"
      ]
     },
     "execution_count": 31,
     "metadata": {},
     "output_type": "execute_result"
    }
   ],
   "source": [
    "# 모델 학습\n",
    "model.fit(x_train, y_train, epochs=10, batch_size=128, callbacks=[history])"
   ]
  },
  {
   "cell_type": "code",
   "execution_count": 33,
   "metadata": {},
   "outputs": [
    {
     "data": {
      "image/png": "[encoded data removed]",
      "text/plain": [
       "<Figure size 432x288 with 1 Axes>"
      ]
     },
     "metadata": {
      "needs_background": "light"
     },
     "output_type": "display_data"
    }
   ],
   "source": [
    "# Loss 확인할게요.\n",
    "loss = history.losses\n",
    "epochs = range(len(loss))\n",
    "plt.plot(epochs, loss)\n",
    "plt.show()"
   ]
  },
  {
   "cell_type": "code",
   "execution_count": 34,
   "metadata": {},
   "outputs": [],
   "source": [
    "# 모델의 정확도만 평가하는 함수작성 할게요.\n",
    "def _eval(sentences, labels):\n",
    "    correct_cnt = 0\n",
    "    \n",
    "    # 문장이랑 레이블 받아서 진행할게요.\n",
    "    for sentence, label in zip(sentences, labels):\n",
    "        # 모델 입력 데이터 array로 바꾸면서, 타입도 변경할게요.\n",
    "        x = np.asarray(sentence).astype('float')\n",
    "        \n",
    "        # RNN 계열은 입력이 3차원이기 때문에 shape 변경할게요.\n",
    "        x = x.reshape(1, x.shape[0], x.shape[1])\n",
    "        \n",
    "        # label은 (0, 1, 2)로 되어있으니까, max값의 인덱스로\n",
    "        # label 설정할게요.\n",
    "        y = list(label)\n",
    "        y = y.index(max(y))\n",
    "        \n",
    "        # 모델로 x 분류 진행할게요.\n",
    "        predict = np.squeeze(model.predict(x))\n",
    "        predict = predict.argmax()\n",
    "        if predict == y:\n",
    "            correct_cnt += 1\n",
    "    return correct_cnt"
   ]
  },
  {
   "cell_type": "code",
   "execution_count": 35,
   "metadata": {},
   "outputs": [
    {
     "name": "stdout",
     "output_type": "stream",
     "text": [
      "7213  /  8188  :  0.8809233023937469\n"
     ]
    }
   ],
   "source": [
    "# 모델에 학습 데이터로 모델 정확도 확인할게요.\n",
    "# 조금 오래걸려요. \n",
    "\n",
    "ccnt = _eval(x_train, y_train)\n",
    "print(ccnt, ' / ', len(x_train),' : ', ccnt/len(x_train))"
   ]
  },
  {
   "cell_type": "code",
   "execution_count": 36,
   "metadata": {},
   "outputs": [
    {
     "name": "stdout",
     "output_type": "stream",
     "text": [
      "2584  /  3530  :  0.7320113314447592\n"
     ]
    }
   ],
   "source": [
    "# 평가 데이터로 모델 정확도 확인할게요.\n",
    "# 조금 오래걸려요.\n",
    "\n",
    "ccnt = _eval(x_test, y_test)\n",
    "print(ccnt, ' / ', len(x_test), ' : ' , ccnt/len(x_test))"
   ]
  },
  {
   "cell_type": "code",
   "execution_count": null,
   "metadata": {},
   "outputs": [],
   "source": []
  }
 ],
 "metadata": {
  "kernelspec": {
   "display_name": "Python 3",
   "language": "python",
   "name": "python3"
  },
  "language_info": {
   "codemirror_mode": {
    "name": "ipython",
    "version": 3
   },
   "file_extension": ".py",
   "mimetype": "text/x-python",
   "name": "python",
   "nbconvert_exporter": "python",
   "pygments_lexer": "ipython3",
   "version": "3.7.7"
  }
 },
 "nbformat": 4,
 "nbformat_minor": 4
}
